{
 "cells": [
  {
   "cell_type": "markdown",
   "metadata": {},
   "source": [
    "# Tarea 1"
   ]
  },
  {
   "cell_type": "raw",
   "metadata": {},
   "source": [
    "Problema1:\n",
    "El objetivo de las bases es que realicemos un modelo de clasificación para poder contestar la siguiente pregunta:\n",
    "\n",
    "      ¿Damos un crédito bancario o no?\n",
    "\n",
    "Para empezar con la exploración de la base, tendrán que generar un análisis descriptivo de la información que les compartiré:\n",
    " 1.- Los campos _id_ que son los identificadores de la información.\n",
    " 2.- base_ini_interna\n",
    " 3.- base_ini_parte1\n",
    " 4.- base_ini_externa\n",
    " 5.- bases de comportamiento\n",
    " 6.- base_inversión, es una variable simulada de una gamma, es\n",
    " 7.- Cuando una variable es categórica, está implícito en el nombre de la base. No tenemos un diccionario, simplemente que son categóricas.\n",
    " 8.- El resto entonces son continuas. Es decir, los nombre estám enmascarados, ni siquiera yo sé qué significan.\n",
    " \n",
    "\n",
    "¿Cómo hago los cruces? Exploren la información.\n",
    "¿Qué análisis puedo realizar? Exploren ustedes, apóyense de los comportamientos de los ids.\n",
    "Pero... ¿Las preguntas son abiertas? Así es, quiero que exploren. Hay bases que vienen en csv y otras en txt. Vean como tratarlas.\n",
    "\n",
    "El resto de las tarea, son las preguntas que les dejé el dìa miércoles. Les coparto los programas que utilizamos.\n",
    "Pero resumo un poco:\n",
    "\n",
    "\n",
    "Problema 2:\n",
    "De la base data_schools sacar obtener el error estándar con Bootstrap de las variables de la base. \n",
    "Recordemos que tienen que simular N Muestras Boostrap con tamño n. Luego, el otro ejercicio es que lo hagan con n-1.\n",
    "\n",
    "Problema 3: Calcular el eror estándar de las betas del modelo lineal, les expliqué la idea de este problema."
   ]
  },
  {
   "cell_type": "markdown",
   "metadata": {},
   "source": [
    "Primero importamos las librerías necesarias"
   ]
  },
  {
   "cell_type": "code",
   "execution_count": 1,
   "metadata": {},
   "outputs": [],
   "source": [
    "from pylab import*\n",
    "import numpy as np\n",
    "import pandas as pd\n",
    "import scipy.stats \n",
    "from scipy.special import gamma\n",
    "import seaborn as sns\n",
    "from scipy.stats import spearmanr\n",
    "from scipy.stats import beta\n",
    "from sklearn import linear_model"
   ]
  },
  {
   "cell_type": "markdown",
   "metadata": {},
   "source": [
    "# Pregunta 1"
   ]
  },
  {
   "cell_type": "code",
   "execution_count": 2,
   "metadata": {},
   "outputs": [],
   "source": [
    "path = \"C:\\\\Users\\\\Arath Reyes\\\\Documents\\\\GitHub\\\\Seminario-ML-DS\\\\data\\\\\"\n",
    "bd_ini_int = pd.read_csv(path + \"base_ini_interna.csv\")\n",
    "bd_ini_pt1 = pd.read_csv(path + \"base_ini_parte1.csv\")\n",
    "bd_comp3 = pd.read_csv(path + \"base_comportamiento_3.csv\")\n",
    "# Archivos .txt\n",
    "bd_comp2 = pd.read_csv(path + \"base_comportamiento_2.txt\", sep = \" \")\n",
    "bd_ini_ext = pd.read_csv(path+\"base_ini_externa.txt\",sep = \" \")\n",
    "bd_inver = pd.read_csv(path + \"base_inversion.txt\", sep = \" \")"
   ]
  },
  {
   "cell_type": "markdown",
   "metadata": {},
   "source": [
    "### base_ini_interna"
   ]
  },
  {
   "cell_type": "code",
   "execution_count": 3,
   "metadata": {},
   "outputs": [
    {
     "data": {
      "text/html": [
       "<div>\n",
       "<style scoped>\n",
       "    .dataframe tbody tr th:only-of-type {\n",
       "        vertical-align: middle;\n",
       "    }\n",
       "\n",
       "    .dataframe tbody tr th {\n",
       "        vertical-align: top;\n",
       "    }\n",
       "\n",
       "    .dataframe thead th {\n",
       "        text-align: right;\n",
       "    }\n",
       "</style>\n",
       "<table border=\"1\" class=\"dataframe\">\n",
       "  <thead>\n",
       "    <tr style=\"text-align: right;\">\n",
       "      <th></th>\n",
       "      <th>_id_</th>\n",
       "      <th>fecha_inicio</th>\n",
       "      <th>comp_interno1</th>\n",
       "      <th>comp_interno2</th>\n",
       "      <th>comp_interno3</th>\n",
       "      <th>comp_interno4</th>\n",
       "      <th>categoria1</th>\n",
       "      <th>categoria2</th>\n",
       "      <th>categoria3</th>\n",
       "    </tr>\n",
       "  </thead>\n",
       "  <tbody>\n",
       "    <tr>\n",
       "      <th>17236</th>\n",
       "      <td>2333</td>\n",
       "      <td>2016-01-04</td>\n",
       "      <td>6079.027356</td>\n",
       "      <td>b'1'</td>\n",
       "      <td>30.0</td>\n",
       "      <td>50.0</td>\n",
       "      <td>2.0</td>\n",
       "      <td>9.0</td>\n",
       "      <td>175.0</td>\n",
       "    </tr>\n",
       "    <tr>\n",
       "      <th>47365</th>\n",
       "      <td>488</td>\n",
       "      <td>2016-01-04</td>\n",
       "      <td>911.854103</td>\n",
       "      <td>b'0'</td>\n",
       "      <td>19.0</td>\n",
       "      <td>48.0</td>\n",
       "      <td>3.0</td>\n",
       "      <td>3.0</td>\n",
       "      <td>164.0</td>\n",
       "    </tr>\n",
       "    <tr>\n",
       "      <th>21961</th>\n",
       "      <td>1964</td>\n",
       "      <td>2016-01-04</td>\n",
       "      <td>0.000000</td>\n",
       "      <td>b'1'</td>\n",
       "      <td>19.0</td>\n",
       "      <td>53.0</td>\n",
       "      <td>4.0</td>\n",
       "      <td>3.0</td>\n",
       "      <td>164.0</td>\n",
       "    </tr>\n",
       "    <tr>\n",
       "      <th>49384</th>\n",
       "      <td>1220</td>\n",
       "      <td>2016-01-04</td>\n",
       "      <td>2482.269504</td>\n",
       "      <td>b'0'</td>\n",
       "      <td>9.0</td>\n",
       "      <td>70.0</td>\n",
       "      <td>3.0</td>\n",
       "      <td>9.0</td>\n",
       "      <td>154.0</td>\n",
       "    </tr>\n",
       "    <tr>\n",
       "      <th>16983</th>\n",
       "      <td>1226</td>\n",
       "      <td>2016-01-04</td>\n",
       "      <td>0.000000</td>\n",
       "      <td>b'1'</td>\n",
       "      <td>3.0</td>\n",
       "      <td>75.0</td>\n",
       "      <td>3.0</td>\n",
       "      <td>9.0</td>\n",
       "      <td>148.0</td>\n",
       "    </tr>\n",
       "  </tbody>\n",
       "</table>\n",
       "</div>"
      ],
      "text/plain": [
       "       _id_ fecha_inicio  comp_interno1 comp_interno2  comp_interno3  \\\n",
       "17236  2333   2016-01-04    6079.027356          b'1'           30.0   \n",
       "47365   488   2016-01-04     911.854103          b'0'           19.0   \n",
       "21961  1964   2016-01-04       0.000000          b'1'           19.0   \n",
       "49384  1220   2016-01-04    2482.269504          b'0'            9.0   \n",
       "16983  1226   2016-01-04       0.000000          b'1'            3.0   \n",
       "\n",
       "       comp_interno4  categoria1  categoria2  categoria3  \n",
       "17236           50.0         2.0         9.0       175.0  \n",
       "47365           48.0         3.0         3.0       164.0  \n",
       "21961           53.0         4.0         3.0       164.0  \n",
       "49384           70.0         3.0         9.0       154.0  \n",
       "16983           75.0         3.0         9.0       148.0  "
      ]
     },
     "execution_count": 3,
     "metadata": {},
     "output_type": "execute_result"
    }
   ],
   "source": [
    "bd_ini_int = bd_ini_int.sort_values(by = [\"fecha_inicio\"])\n",
    "bd_ini_int.head()"
   ]
  },
  {
   "cell_type": "code",
   "execution_count": 4,
   "metadata": {},
   "outputs": [
    {
     "name": "stdout",
     "output_type": "stream",
     "text": [
      "<class 'pandas.core.frame.DataFrame'>\n",
      "Int64Index: 50000 entries, 17236 to 32134\n",
      "Data columns (total 9 columns):\n",
      " #   Column         Non-Null Count  Dtype  \n",
      "---  ------         --------------  -----  \n",
      " 0   _id_           50000 non-null  int64  \n",
      " 1   fecha_inicio   50000 non-null  object \n",
      " 2   comp_interno1  50000 non-null  float64\n",
      " 3   comp_interno2  50000 non-null  object \n",
      " 4   comp_interno3  50000 non-null  float64\n",
      " 5   comp_interno4  50000 non-null  float64\n",
      " 6   categoria1     50000 non-null  float64\n",
      " 7   categoria2     50000 non-null  float64\n",
      " 8   categoria3     50000 non-null  float64\n",
      "dtypes: float64(6), int64(1), object(2)\n",
      "memory usage: 3.8+ MB\n"
     ]
    }
   ],
   "source": [
    "bd_ini_int.info()"
   ]
  },
  {
   "cell_type": "code",
   "execution_count": 5,
   "metadata": {},
   "outputs": [
    {
     "data": {
      "text/plain": [
       "_id_             50000\n",
       "fecha_inicio      1557\n",
       "comp_interno1      680\n",
       "comp_interno2        2\n",
       "comp_interno3       32\n",
       "comp_interno4       55\n",
       "categoria1           6\n",
       "categoria2          13\n",
       "categoria3          32\n",
       "dtype: int64"
      ]
     },
     "execution_count": 5,
     "metadata": {},
     "output_type": "execute_result"
    }
   ],
   "source": [
    "bd_ini_int.nunique()"
   ]
  },
  {
   "cell_type": "code",
   "execution_count": 6,
   "metadata": {},
   "outputs": [
    {
     "name": "stdout",
     "output_type": "stream",
     "text": [
      "Valores únicos de comp_interno2: [\"b'0'\", \"b'1'\"]\n",
      "\n",
      "Valores únicos de comp_interno3: [1.0, 2.0, 3.0, 4.0, 5.0, 6.0, 7.0, 8.0, 9.0, 10.0, 11.0, 12.0, 13.0, 14.0, 15.0, 16.0, 17.0, 18.0, 19.0, 20.0, 21.0, 22.0, 23.0, 24.0, 25.0, 26.0, 27.0, 28.0, 29.0, 30.0, 31.0, 32.0]\n",
      "\n",
      "Valores únicos de comp_interno4: [24.0, 25.0, 27.0, 28.0, 29.0, 30.0, 31.0, 32.0, 33.0, 34.0, 35.0, 36.0, 37.0, 38.0, 39.0, 40.0, 41.0, 42.0, 43.0, 44.0, 45.0, 46.0, 47.0, 48.0, 49.0, 50.0, 51.0, 52.0, 53.0, 54.0, 55.0, 56.0, 57.0, 58.0, 59.0, 60.0, 61.0, 62.0, 63.0, 64.0, 65.0, 66.0, 67.0, 68.0, 69.0, 70.0, 71.0, 72.0, 73.0, 74.0, 75.0, 76.0, 77.0, 78.0, 79.0]\n",
      "\n",
      "Valores únicos de categoria1: [1.0, 2.0, 3.0, 4.0, 5.0, 6.0]\n",
      "\n",
      "Valores únicos de categoria2: [1.0, 2.0, 3.0, 4.0, 5.0, 6.0, 7.0, 8.0, 9.0, 10.0, 11.0, 12.0, 13.0]\n",
      "\n",
      "Valores únicos de categoria3: [146.0, 147.0, 148.0, 149.0, 150.0, 151.0, 152.0, 153.0, 154.0, 155.0, 156.0, 157.0, 158.0, 159.0, 160.0, 161.0, 162.0, 163.0, 164.0, 165.0, 166.0, 167.0, 168.0, 169.0, 170.0, 171.0, 172.0, 173.0, 174.0, 175.0, 176.0, 177.0]\n",
      "\n"
     ]
    }
   ],
   "source": [
    "for col in bd_ini_int.columns[3:]:\n",
    "    print(\"Valores únicos de \"+col+\": {0}\\n\".format(sorted(bd_ini_int[col].unique())))"
   ]
  },
  {
   "cell_type": "markdown",
   "metadata": {},
   "source": [
    "### base_ini_externa"
   ]
  },
  {
   "cell_type": "code",
   "execution_count": 7,
   "metadata": {},
   "outputs": [
    {
     "data": {
      "text/html": [
       "<div>\n",
       "<style scoped>\n",
       "    .dataframe tbody tr th:only-of-type {\n",
       "        vertical-align: middle;\n",
       "    }\n",
       "\n",
       "    .dataframe tbody tr th {\n",
       "        vertical-align: top;\n",
       "    }\n",
       "\n",
       "    .dataframe thead th {\n",
       "        text-align: right;\n",
       "    }\n",
       "</style>\n",
       "<table border=\"1\" class=\"dataframe\">\n",
       "  <thead>\n",
       "    <tr style=\"text-align: right;\">\n",
       "      <th></th>\n",
       "      <th>_id_</th>\n",
       "      <th>comp_externo1</th>\n",
       "      <th>comp_externo2</th>\n",
       "      <th>comp_externo3</th>\n",
       "      <th>comp_externo4</th>\n",
       "    </tr>\n",
       "  </thead>\n",
       "  <tbody>\n",
       "    <tr>\n",
       "      <th>0</th>\n",
       "      <td>78213</td>\n",
       "      <td>260.869565</td>\n",
       "      <td>25.854639</td>\n",
       "      <td>56.0</td>\n",
       "      <td>-230.0</td>\n",
       "    </tr>\n",
       "    <tr>\n",
       "      <th>1</th>\n",
       "      <td>76457</td>\n",
       "      <td>40.579710</td>\n",
       "      <td>2.872738</td>\n",
       "      <td>62.0</td>\n",
       "      <td>-230.0</td>\n",
       "    </tr>\n",
       "    <tr>\n",
       "      <th>2</th>\n",
       "      <td>40666</td>\n",
       "      <td>NaN</td>\n",
       "      <td>NaN</td>\n",
       "      <td>119.0</td>\n",
       "      <td>-230.0</td>\n",
       "    </tr>\n",
       "    <tr>\n",
       "      <th>3</th>\n",
       "      <td>8329</td>\n",
       "      <td>349.275362</td>\n",
       "      <td>34.616490</td>\n",
       "      <td>94.0</td>\n",
       "      <td>-230.0</td>\n",
       "    </tr>\n",
       "    <tr>\n",
       "      <th>4</th>\n",
       "      <td>68389</td>\n",
       "      <td>276.811594</td>\n",
       "      <td>27.434645</td>\n",
       "      <td>125.0</td>\n",
       "      <td>-230.0</td>\n",
       "    </tr>\n",
       "  </tbody>\n",
       "</table>\n",
       "</div>"
      ],
      "text/plain": [
       "    _id_  comp_externo1  comp_externo2  comp_externo3  comp_externo4\n",
       "0  78213     260.869565      25.854639           56.0         -230.0\n",
       "1  76457      40.579710       2.872738           62.0         -230.0\n",
       "2  40666            NaN            NaN          119.0         -230.0\n",
       "3   8329     349.275362      34.616490           94.0         -230.0\n",
       "4  68389     276.811594      27.434645          125.0         -230.0"
      ]
     },
     "execution_count": 7,
     "metadata": {},
     "output_type": "execute_result"
    }
   ],
   "source": [
    "bd_ini_ext.head()"
   ]
  },
  {
   "cell_type": "code",
   "execution_count": 8,
   "metadata": {},
   "outputs": [
    {
     "name": "stdout",
     "output_type": "stream",
     "text": [
      "<class 'pandas.core.frame.DataFrame'>\n",
      "RangeIndex: 50000 entries, 0 to 49999\n",
      "Data columns (total 5 columns):\n",
      " #   Column         Non-Null Count  Dtype  \n",
      "---  ------         --------------  -----  \n",
      " 0   _id_           50000 non-null  int64  \n",
      " 1   comp_externo1  47831 non-null  float64\n",
      " 2   comp_externo2  44410 non-null  float64\n",
      " 3   comp_externo3  49994 non-null  float64\n",
      " 4   comp_externo4  50000 non-null  float64\n",
      "dtypes: float64(4), int64(1)\n",
      "memory usage: 1.9 MB\n"
     ]
    }
   ],
   "source": [
    "bd_ini_ext.info()"
   ]
  },
  {
   "cell_type": "code",
   "execution_count": 9,
   "metadata": {},
   "outputs": [
    {
     "data": {
      "text/plain": [
       "_id_             50000\n",
       "comp_externo1     7533\n",
       "comp_externo2     6982\n",
       "comp_externo3      237\n",
       "comp_externo4        6\n",
       "dtype: int64"
      ]
     },
     "execution_count": 9,
     "metadata": {},
     "output_type": "execute_result"
    }
   ],
   "source": [
    "bd_ini_ext.nunique()"
   ]
  },
  {
   "cell_type": "markdown",
   "metadata": {},
   "source": [
    "### base_ini_parte1"
   ]
  },
  {
   "cell_type": "code",
   "execution_count": 10,
   "metadata": {},
   "outputs": [
    {
     "data": {
      "text/html": [
       "<div>\n",
       "<style scoped>\n",
       "    .dataframe tbody tr th:only-of-type {\n",
       "        vertical-align: middle;\n",
       "    }\n",
       "\n",
       "    .dataframe tbody tr th {\n",
       "        vertical-align: top;\n",
       "    }\n",
       "\n",
       "    .dataframe thead th {\n",
       "        text-align: right;\n",
       "    }\n",
       "</style>\n",
       "<table border=\"1\" class=\"dataframe\">\n",
       "  <thead>\n",
       "    <tr style=\"text-align: right;\">\n",
       "      <th></th>\n",
       "      <th>_id_</th>\n",
       "      <th>_id2_</th>\n",
       "      <th>comp_mixto1</th>\n",
       "    </tr>\n",
       "  </thead>\n",
       "  <tbody>\n",
       "    <tr>\n",
       "      <th>0</th>\n",
       "      <td>78213</td>\n",
       "      <td>1798899</td>\n",
       "      <td>0.33522</td>\n",
       "    </tr>\n",
       "    <tr>\n",
       "      <th>1</th>\n",
       "      <td>76457</td>\n",
       "      <td>1758511</td>\n",
       "      <td>0.33334</td>\n",
       "    </tr>\n",
       "    <tr>\n",
       "      <th>2</th>\n",
       "      <td>40666</td>\n",
       "      <td>935318</td>\n",
       "      <td>0.29186</td>\n",
       "    </tr>\n",
       "    <tr>\n",
       "      <th>3</th>\n",
       "      <td>8329</td>\n",
       "      <td>191567</td>\n",
       "      <td>0.29112</td>\n",
       "    </tr>\n",
       "    <tr>\n",
       "      <th>4</th>\n",
       "      <td>68389</td>\n",
       "      <td>1572947</td>\n",
       "      <td>0.27318</td>\n",
       "    </tr>\n",
       "  </tbody>\n",
       "</table>\n",
       "</div>"
      ],
      "text/plain": [
       "    _id_    _id2_  comp_mixto1\n",
       "0  78213  1798899      0.33522\n",
       "1  76457  1758511      0.33334\n",
       "2  40666   935318      0.29186\n",
       "3   8329   191567      0.29112\n",
       "4  68389  1572947      0.27318"
      ]
     },
     "execution_count": 10,
     "metadata": {},
     "output_type": "execute_result"
    }
   ],
   "source": [
    "bd_ini_pt1.head()"
   ]
  },
  {
   "cell_type": "code",
   "execution_count": 11,
   "metadata": {},
   "outputs": [
    {
     "name": "stdout",
     "output_type": "stream",
     "text": [
      "<class 'pandas.core.frame.DataFrame'>\n",
      "RangeIndex: 50000 entries, 0 to 49999\n",
      "Data columns (total 3 columns):\n",
      " #   Column       Non-Null Count  Dtype  \n",
      "---  ------       --------------  -----  \n",
      " 0   _id_         50000 non-null  int64  \n",
      " 1   _id2_        50000 non-null  int64  \n",
      " 2   comp_mixto1  50000 non-null  float64\n",
      "dtypes: float64(1), int64(2)\n",
      "memory usage: 1.1 MB\n"
     ]
    }
   ],
   "source": [
    "bd_ini_pt1.info()"
   ]
  },
  {
   "cell_type": "code",
   "execution_count": 12,
   "metadata": {},
   "outputs": [
    {
     "data": {
      "text/plain": [
       "_id_           50000\n",
       "_id2_          50000\n",
       "comp_mixto1     7098\n",
       "dtype: int64"
      ]
     },
     "execution_count": 12,
     "metadata": {},
     "output_type": "execute_result"
    }
   ],
   "source": [
    "bd_ini_pt1.nunique()"
   ]
  },
  {
   "cell_type": "markdown",
   "metadata": {},
   "source": [
    "### base_comportamiento_2"
   ]
  },
  {
   "cell_type": "code",
   "execution_count": 13,
   "metadata": {},
   "outputs": [
    {
     "data": {
      "text/html": [
       "<div>\n",
       "<style scoped>\n",
       "    .dataframe tbody tr th:only-of-type {\n",
       "        vertical-align: middle;\n",
       "    }\n",
       "\n",
       "    .dataframe tbody tr th {\n",
       "        vertical-align: top;\n",
       "    }\n",
       "\n",
       "    .dataframe thead th {\n",
       "        text-align: right;\n",
       "    }\n",
       "</style>\n",
       "<table border=\"1\" class=\"dataframe\">\n",
       "  <thead>\n",
       "    <tr style=\"text-align: right;\">\n",
       "      <th></th>\n",
       "      <th>num_caso</th>\n",
       "      <th>mes_informacion</th>\n",
       "      <th>Tiempo_aparicion</th>\n",
       "    </tr>\n",
       "  </thead>\n",
       "  <tbody>\n",
       "    <tr>\n",
       "      <th>32240</th>\n",
       "      <td>1220</td>\n",
       "      <td>2016-01-01 00:00:00</td>\n",
       "      <td>0.0</td>\n",
       "    </tr>\n",
       "    <tr>\n",
       "      <th>44912</th>\n",
       "      <td>1704</td>\n",
       "      <td>2016-01-01 00:00:00</td>\n",
       "      <td>0.0</td>\n",
       "    </tr>\n",
       "    <tr>\n",
       "      <th>74499</th>\n",
       "      <td>2824</td>\n",
       "      <td>2016-01-01 00:00:00</td>\n",
       "      <td>0.0</td>\n",
       "    </tr>\n",
       "    <tr>\n",
       "      <th>20479</th>\n",
       "      <td>775</td>\n",
       "      <td>2016-01-01 00:00:00</td>\n",
       "      <td>0.0</td>\n",
       "    </tr>\n",
       "    <tr>\n",
       "      <th>27608</th>\n",
       "      <td>1049</td>\n",
       "      <td>2016-01-01 00:00:00</td>\n",
       "      <td>0.0</td>\n",
       "    </tr>\n",
       "  </tbody>\n",
       "</table>\n",
       "</div>"
      ],
      "text/plain": [
       "       num_caso      mes_informacion  Tiempo_aparicion\n",
       "32240      1220  2016-01-01 00:00:00               0.0\n",
       "44912      1704  2016-01-01 00:00:00               0.0\n",
       "74499      2824  2016-01-01 00:00:00               0.0\n",
       "20479       775  2016-01-01 00:00:00               0.0\n",
       "27608      1049  2016-01-01 00:00:00               0.0"
      ]
     },
     "execution_count": 13,
     "metadata": {},
     "output_type": "execute_result"
    }
   ],
   "source": [
    "bd_comp2 = bd_comp2.sort_values(by = \"mes_informacion\")\n",
    "bd_comp2.head()"
   ]
  },
  {
   "cell_type": "code",
   "execution_count": 14,
   "metadata": {},
   "outputs": [
    {
     "name": "stdout",
     "output_type": "stream",
     "text": [
      "<class 'pandas.core.frame.DataFrame'>\n",
      "Int64Index: 1455536 entries, 32240 to 1455535\n",
      "Data columns (total 3 columns):\n",
      " #   Column            Non-Null Count    Dtype  \n",
      "---  ------            --------------    -----  \n",
      " 0   num_caso          1455536 non-null  int64  \n",
      " 1   mes_informacion   1455536 non-null  object \n",
      " 2   Tiempo_aparicion  1455536 non-null  float64\n",
      "dtypes: float64(1), int64(1), object(1)\n",
      "memory usage: 44.4+ MB\n"
     ]
    }
   ],
   "source": [
    "bd_comp2.info()"
   ]
  },
  {
   "cell_type": "code",
   "execution_count": 15,
   "metadata": {},
   "outputs": [
    {
     "data": {
      "text/plain": [
       "num_caso            49352\n",
       "mes_informacion        65\n",
       "Tiempo_aparicion       65\n",
       "dtype: int64"
      ]
     },
     "execution_count": 15,
     "metadata": {},
     "output_type": "execute_result"
    }
   ],
   "source": [
    "bd_comp2.nunique()"
   ]
  },
  {
   "cell_type": "code",
   "execution_count": 16,
   "metadata": {},
   "outputs": [
    {
     "data": {
      "text/plain": [
       "array([ 0.,  1.,  2.,  3.,  4.,  5.,  6.,  7.,  8.,  9., 10., 11., 12.,\n",
       "       13., 14., 15., 16., 17., 18., 19., 20., 21., 22., 23., 24., 25.,\n",
       "       26., 27., 28., 29., 30., 31., 32., 33., 34., 35., 36., 37., 38.,\n",
       "       39., 40., 41., 42., 43., 44., 45., 46., 47., 48., 49., 50., 51.,\n",
       "       52., 53., 54., 55., 56., 57., 58., 59., 60., 61., 62., 63., 64.])"
      ]
     },
     "execution_count": 16,
     "metadata": {},
     "output_type": "execute_result"
    }
   ],
   "source": [
    "bd_comp2[\"Tiempo_aparicion\"].unique()"
   ]
  },
  {
   "cell_type": "markdown",
   "metadata": {},
   "source": [
    "### base_ini_comportamiento3"
   ]
  },
  {
   "cell_type": "code",
   "execution_count": 17,
   "metadata": {},
   "outputs": [
    {
     "data": {
      "text/html": [
       "<div>\n",
       "<style scoped>\n",
       "    .dataframe tbody tr th:only-of-type {\n",
       "        vertical-align: middle;\n",
       "    }\n",
       "\n",
       "    .dataframe tbody tr th {\n",
       "        vertical-align: top;\n",
       "    }\n",
       "\n",
       "    .dataframe thead th {\n",
       "        text-align: right;\n",
       "    }\n",
       "</style>\n",
       "<table border=\"1\" class=\"dataframe\">\n",
       "  <thead>\n",
       "    <tr style=\"text-align: right;\">\n",
       "      <th></th>\n",
       "      <th>num_caso</th>\n",
       "      <th>mes_informacion</th>\n",
       "      <th>comportamiento_j</th>\n",
       "    </tr>\n",
       "  </thead>\n",
       "  <tbody>\n",
       "    <tr>\n",
       "      <th>32240</th>\n",
       "      <td>1220</td>\n",
       "      <td>2016-01-01 00:00:00</td>\n",
       "      <td>0.0</td>\n",
       "    </tr>\n",
       "    <tr>\n",
       "      <th>44912</th>\n",
       "      <td>1704</td>\n",
       "      <td>2016-01-01 00:00:00</td>\n",
       "      <td>0.0</td>\n",
       "    </tr>\n",
       "    <tr>\n",
       "      <th>74499</th>\n",
       "      <td>2824</td>\n",
       "      <td>2016-01-01 00:00:00</td>\n",
       "      <td>0.0</td>\n",
       "    </tr>\n",
       "    <tr>\n",
       "      <th>20479</th>\n",
       "      <td>775</td>\n",
       "      <td>2016-01-01 00:00:00</td>\n",
       "      <td>0.0</td>\n",
       "    </tr>\n",
       "    <tr>\n",
       "      <th>27608</th>\n",
       "      <td>1049</td>\n",
       "      <td>2016-01-01 00:00:00</td>\n",
       "      <td>0.0</td>\n",
       "    </tr>\n",
       "  </tbody>\n",
       "</table>\n",
       "</div>"
      ],
      "text/plain": [
       "       num_caso      mes_informacion  comportamiento_j\n",
       "32240      1220  2016-01-01 00:00:00               0.0\n",
       "44912      1704  2016-01-01 00:00:00               0.0\n",
       "74499      2824  2016-01-01 00:00:00               0.0\n",
       "20479       775  2016-01-01 00:00:00               0.0\n",
       "27608      1049  2016-01-01 00:00:00               0.0"
      ]
     },
     "execution_count": 17,
     "metadata": {},
     "output_type": "execute_result"
    }
   ],
   "source": [
    "bd_comp3 = bd_comp3.sort_values(by =\"mes_informacion\")\n",
    "bd_comp3.head()"
   ]
  },
  {
   "cell_type": "code",
   "execution_count": 18,
   "metadata": {},
   "outputs": [
    {
     "name": "stdout",
     "output_type": "stream",
     "text": [
      "<class 'pandas.core.frame.DataFrame'>\n",
      "Int64Index: 1455536 entries, 32240 to 1455535\n",
      "Data columns (total 3 columns):\n",
      " #   Column            Non-Null Count    Dtype  \n",
      "---  ------            --------------    -----  \n",
      " 0   num_caso          1455536 non-null  int64  \n",
      " 1   mes_informacion   1455536 non-null  object \n",
      " 2   comportamiento_j  1455536 non-null  float64\n",
      "dtypes: float64(1), int64(1), object(1)\n",
      "memory usage: 44.4+ MB\n"
     ]
    }
   ],
   "source": [
    "bd_comp3.info()"
   ]
  },
  {
   "cell_type": "code",
   "execution_count": 19,
   "metadata": {},
   "outputs": [
    {
     "data": {
      "text/plain": [
       "num_caso            49352\n",
       "mes_informacion        65\n",
       "comportamiento_j       18\n",
       "dtype: int64"
      ]
     },
     "execution_count": 19,
     "metadata": {},
     "output_type": "execute_result"
    }
   ],
   "source": [
    "bd_comp3.nunique()"
   ]
  },
  {
   "cell_type": "code",
   "execution_count": 20,
   "metadata": {},
   "outputs": [
    {
     "data": {
      "text/plain": [
       "array([ 0.,  1.,  2.,  3.,  4.,  5.,  6.,  7.,  8.,  9., 10., 13., 11.,\n",
       "       12., 16., 18., 14., 15.])"
      ]
     },
     "execution_count": 20,
     "metadata": {},
     "output_type": "execute_result"
    }
   ],
   "source": [
    "bd_comp3[\"comportamiento_j\"].unique()"
   ]
  },
  {
   "cell_type": "code",
   "execution_count": 21,
   "metadata": {},
   "outputs": [
    {
     "name": "stdout",
     "output_type": "stream",
     "text": [
      "Valores únicos de mes_informacion: ['2016-01-01 00:00:00', '2016-02-01 00:00:00', '2016-03-01 00:00:00', '2016-04-01 00:00:00', '2016-05-01 00:00:00', '2016-06-01 00:00:00', '2016-07-01 00:00:00', '2016-08-01 00:00:00', '2016-09-01 00:00:00', '2016-10-01 00:00:00', '2016-11-01 00:00:00', '2016-12-01 00:00:00', '2017-01-01 00:00:00', '2017-02-01 00:00:00', '2017-03-01 00:00:00', '2017-04-01 00:00:00', '2017-05-01 00:00:00', '2017-06-01 00:00:00', '2017-07-01 00:00:00', '2017-08-01 00:00:00', '2017-09-01 00:00:00', '2017-10-01 00:00:00', '2017-11-01 00:00:00', '2017-12-01 00:00:00', '2018-01-01 00:00:00', '2018-02-01 00:00:00', '2018-03-01 00:00:00', '2018-04-01 00:00:00', '2018-05-01 00:00:00', '2018-06-01 00:00:00', '2018-07-01 00:00:00', '2018-08-01 00:00:00', '2018-09-01 00:00:00', '2018-10-01 00:00:00', '2018-11-01 00:00:00', '2018-12-01 00:00:00', '2019-01-01 00:00:00', '2019-02-01 00:00:00', '2019-03-01 00:00:00', '2019-04-01 00:00:00', '2019-05-01 00:00:00', '2019-06-01 00:00:00', '2019-07-01 00:00:00', '2019-08-01 00:00:00', '2019-09-01 00:00:00', '2019-10-01 00:00:00', '2019-11-01 00:00:00', '2019-12-01 00:00:00', '2020-01-01 00:00:00', '2020-02-01 00:00:00', '2020-03-01 00:00:00', '2020-04-01 00:00:00', '2020-05-01 00:00:00', '2020-06-01 00:00:00', '2020-07-01 00:00:00', '2020-08-01 00:00:00', '2020-09-01 00:00:00', '2020-10-01 00:00:00', '2020-11-01 00:00:00', '2020-12-01 00:00:00', '2021-01-01 00:00:00', '2021-02-01 00:00:00', '2021-03-01 00:00:00', '2021-04-01 00:00:00', '2021-05-01 00:00:00']\n",
      "\n",
      "Valores únicos de comportamiento_j: [0.0, 1.0, 2.0, 3.0, 4.0, 5.0, 6.0, 7.0, 8.0, 9.0, 10.0, 11.0, 12.0, 13.0, 14.0, 15.0, 16.0, 18.0]\n",
      "\n"
     ]
    }
   ],
   "source": [
    "for col in bd_comp3.columns[1:]:\n",
    "    print(\"Valores únicos de \"+col+\": {0}\\n\".format(sorted(bd_comp3[col].unique())))"
   ]
  },
  {
   "cell_type": "markdown",
   "metadata": {},
   "source": [
    "### base_inversion"
   ]
  },
  {
   "cell_type": "code",
   "execution_count": 22,
   "metadata": {},
   "outputs": [
    {
     "data": {
      "text/html": [
       "<div>\n",
       "<style scoped>\n",
       "    .dataframe tbody tr th:only-of-type {\n",
       "        vertical-align: middle;\n",
       "    }\n",
       "\n",
       "    .dataframe tbody tr th {\n",
       "        vertical-align: top;\n",
       "    }\n",
       "\n",
       "    .dataframe thead th {\n",
       "        text-align: right;\n",
       "    }\n",
       "</style>\n",
       "<table border=\"1\" class=\"dataframe\">\n",
       "  <thead>\n",
       "    <tr style=\"text-align: right;\">\n",
       "      <th></th>\n",
       "      <th>_id2_</th>\n",
       "      <th>inversion</th>\n",
       "    </tr>\n",
       "  </thead>\n",
       "  <tbody>\n",
       "    <tr>\n",
       "      <th>0</th>\n",
       "      <td>1758511</td>\n",
       "      <td>0.041039</td>\n",
       "    </tr>\n",
       "    <tr>\n",
       "      <th>1</th>\n",
       "      <td>1572947</td>\n",
       "      <td>77.422135</td>\n",
       "    </tr>\n",
       "    <tr>\n",
       "      <th>2</th>\n",
       "      <td>1051836</td>\n",
       "      <td>90.539953</td>\n",
       "    </tr>\n",
       "    <tr>\n",
       "      <th>3</th>\n",
       "      <td>1223255</td>\n",
       "      <td>90.205018</td>\n",
       "    </tr>\n",
       "    <tr>\n",
       "      <th>4</th>\n",
       "      <td>1894602</td>\n",
       "      <td>1.071354</td>\n",
       "    </tr>\n",
       "  </tbody>\n",
       "</table>\n",
       "</div>"
      ],
      "text/plain": [
       "     _id2_  inversion\n",
       "0  1758511   0.041039\n",
       "1  1572947  77.422135\n",
       "2  1051836  90.539953\n",
       "3  1223255  90.205018\n",
       "4  1894602   1.071354"
      ]
     },
     "execution_count": 22,
     "metadata": {},
     "output_type": "execute_result"
    }
   ],
   "source": [
    "bd_inver.head()"
   ]
  },
  {
   "cell_type": "code",
   "execution_count": 23,
   "metadata": {},
   "outputs": [
    {
     "name": "stdout",
     "output_type": "stream",
     "text": [
      "<class 'pandas.core.frame.DataFrame'>\n",
      "RangeIndex: 17536 entries, 0 to 17535\n",
      "Data columns (total 2 columns):\n",
      " #   Column     Non-Null Count  Dtype  \n",
      "---  ------     --------------  -----  \n",
      " 0   _id2_      17536 non-null  int64  \n",
      " 1   inversion  17536 non-null  float64\n",
      "dtypes: float64(1), int64(1)\n",
      "memory usage: 274.1 KB\n"
     ]
    }
   ],
   "source": [
    "bd_inver.info()"
   ]
  },
  {
   "cell_type": "code",
   "execution_count": 24,
   "metadata": {},
   "outputs": [
    {
     "data": {
      "text/plain": [
       "_id2_        17536\n",
       "inversion    17385\n",
       "dtype: int64"
      ]
     },
     "execution_count": 24,
     "metadata": {},
     "output_type": "execute_result"
    }
   ],
   "source": [
    "bd_inver.nunique()"
   ]
  },
  {
   "cell_type": "markdown",
   "metadata": {},
   "source": [
    "### Análisis y agrupamiento de las bases"
   ]
  },
  {
   "cell_type": "code",
   "execution_count": 25,
   "metadata": {},
   "outputs": [
    {
     "data": {
      "text/html": [
       "<div>\n",
       "<style scoped>\n",
       "    .dataframe tbody tr th:only-of-type {\n",
       "        vertical-align: middle;\n",
       "    }\n",
       "\n",
       "    .dataframe tbody tr th {\n",
       "        vertical-align: top;\n",
       "    }\n",
       "\n",
       "    .dataframe thead th {\n",
       "        text-align: right;\n",
       "    }\n",
       "</style>\n",
       "<table border=\"1\" class=\"dataframe\">\n",
       "  <thead>\n",
       "    <tr style=\"text-align: right;\">\n",
       "      <th></th>\n",
       "      <th>_id_</th>\n",
       "      <th>fecha_inicio</th>\n",
       "      <th>comp_interno1</th>\n",
       "      <th>comp_interno2</th>\n",
       "      <th>comp_interno3</th>\n",
       "      <th>comp_interno4</th>\n",
       "      <th>categoria1</th>\n",
       "      <th>categoria2</th>\n",
       "      <th>categoria3</th>\n",
       "      <th>comp_externo1</th>\n",
       "      <th>comp_externo2</th>\n",
       "      <th>comp_externo3</th>\n",
       "      <th>comp_externo4</th>\n",
       "    </tr>\n",
       "  </thead>\n",
       "  <tbody>\n",
       "    <tr>\n",
       "      <th>0</th>\n",
       "      <td>2333</td>\n",
       "      <td>2016-01-04</td>\n",
       "      <td>6079.027356</td>\n",
       "      <td>b'1'</td>\n",
       "      <td>30.0</td>\n",
       "      <td>50.0</td>\n",
       "      <td>2.0</td>\n",
       "      <td>9.0</td>\n",
       "      <td>175.0</td>\n",
       "      <td>324.637681</td>\n",
       "      <td>32.174662</td>\n",
       "      <td>91.0</td>\n",
       "      <td>-230.0</td>\n",
       "    </tr>\n",
       "    <tr>\n",
       "      <th>1</th>\n",
       "      <td>488</td>\n",
       "      <td>2016-01-04</td>\n",
       "      <td>911.854103</td>\n",
       "      <td>b'0'</td>\n",
       "      <td>19.0</td>\n",
       "      <td>48.0</td>\n",
       "      <td>3.0</td>\n",
       "      <td>3.0</td>\n",
       "      <td>164.0</td>\n",
       "      <td>15.942029</td>\n",
       "      <td>NaN</td>\n",
       "      <td>132.0</td>\n",
       "      <td>-230.0</td>\n",
       "    </tr>\n",
       "    <tr>\n",
       "      <th>2</th>\n",
       "      <td>1964</td>\n",
       "      <td>2016-01-04</td>\n",
       "      <td>0.000000</td>\n",
       "      <td>b'1'</td>\n",
       "      <td>19.0</td>\n",
       "      <td>53.0</td>\n",
       "      <td>4.0</td>\n",
       "      <td>3.0</td>\n",
       "      <td>164.0</td>\n",
       "      <td>144.927536</td>\n",
       "      <td>14.363689</td>\n",
       "      <td>77.0</td>\n",
       "      <td>-230.0</td>\n",
       "    </tr>\n",
       "    <tr>\n",
       "      <th>3</th>\n",
       "      <td>1220</td>\n",
       "      <td>2016-01-04</td>\n",
       "      <td>2482.269504</td>\n",
       "      <td>b'0'</td>\n",
       "      <td>9.0</td>\n",
       "      <td>70.0</td>\n",
       "      <td>3.0</td>\n",
       "      <td>9.0</td>\n",
       "      <td>154.0</td>\n",
       "      <td>727.536232</td>\n",
       "      <td>72.105717</td>\n",
       "      <td>75.0</td>\n",
       "      <td>-230.0</td>\n",
       "    </tr>\n",
       "    <tr>\n",
       "      <th>4</th>\n",
       "      <td>1226</td>\n",
       "      <td>2016-01-04</td>\n",
       "      <td>0.000000</td>\n",
       "      <td>b'1'</td>\n",
       "      <td>3.0</td>\n",
       "      <td>75.0</td>\n",
       "      <td>3.0</td>\n",
       "      <td>9.0</td>\n",
       "      <td>148.0</td>\n",
       "      <td>30.434783</td>\n",
       "      <td>3.016375</td>\n",
       "      <td>121.0</td>\n",
       "      <td>-230.0</td>\n",
       "    </tr>\n",
       "  </tbody>\n",
       "</table>\n",
       "</div>"
      ],
      "text/plain": [
       "   _id_ fecha_inicio  comp_interno1 comp_interno2  comp_interno3  \\\n",
       "0  2333   2016-01-04    6079.027356          b'1'           30.0   \n",
       "1   488   2016-01-04     911.854103          b'0'           19.0   \n",
       "2  1964   2016-01-04       0.000000          b'1'           19.0   \n",
       "3  1220   2016-01-04    2482.269504          b'0'            9.0   \n",
       "4  1226   2016-01-04       0.000000          b'1'            3.0   \n",
       "\n",
       "   comp_interno4  categoria1  categoria2  categoria3  comp_externo1  \\\n",
       "0           50.0         2.0         9.0       175.0     324.637681   \n",
       "1           48.0         3.0         3.0       164.0      15.942029   \n",
       "2           53.0         4.0         3.0       164.0     144.927536   \n",
       "3           70.0         3.0         9.0       154.0     727.536232   \n",
       "4           75.0         3.0         9.0       148.0      30.434783   \n",
       "\n",
       "   comp_externo2  comp_externo3  comp_externo4  \n",
       "0      32.174662           91.0         -230.0  \n",
       "1            NaN          132.0         -230.0  \n",
       "2      14.363689           77.0         -230.0  \n",
       "3      72.105717           75.0         -230.0  \n",
       "4       3.016375          121.0         -230.0  "
      ]
     },
     "execution_count": 25,
     "metadata": {},
     "output_type": "execute_result"
    }
   ],
   "source": [
    "bd_ini_merged = bd_ini_int.merge(bd_ini_ext, how = \"left\", on = \"_id_\")\n",
    "bd_ini_merged.head()"
   ]
  },
  {
   "cell_type": "code",
   "execution_count": 26,
   "metadata": {},
   "outputs": [
    {
     "data": {
      "text/plain": [
       "_id_             50000\n",
       "fecha_inicio      1557\n",
       "comp_interno1      680\n",
       "comp_interno2        2\n",
       "comp_interno3       32\n",
       "comp_interno4       55\n",
       "categoria1           6\n",
       "categoria2          13\n",
       "categoria3          32\n",
       "comp_externo1     7533\n",
       "comp_externo2     6982\n",
       "comp_externo3      237\n",
       "comp_externo4        6\n",
       "dtype: int64"
      ]
     },
     "execution_count": 26,
     "metadata": {},
     "output_type": "execute_result"
    }
   ],
   "source": [
    "bd_ini_merged.nunique()"
   ]
  },
  {
   "cell_type": "code",
   "execution_count": 27,
   "metadata": {},
   "outputs": [
    {
     "name": "stdout",
     "output_type": "stream",
     "text": [
      "<class 'pandas.core.frame.DataFrame'>\n",
      "Int64Index: 50000 entries, 0 to 49999\n",
      "Data columns (total 13 columns):\n",
      " #   Column         Non-Null Count  Dtype  \n",
      "---  ------         --------------  -----  \n",
      " 0   _id_           50000 non-null  int64  \n",
      " 1   fecha_inicio   50000 non-null  object \n",
      " 2   comp_interno1  50000 non-null  float64\n",
      " 3   comp_interno2  50000 non-null  object \n",
      " 4   comp_interno3  50000 non-null  float64\n",
      " 5   comp_interno4  50000 non-null  float64\n",
      " 6   categoria1     50000 non-null  float64\n",
      " 7   categoria2     50000 non-null  float64\n",
      " 8   categoria3     50000 non-null  float64\n",
      " 9   comp_externo1  47831 non-null  float64\n",
      " 10  comp_externo2  44410 non-null  float64\n",
      " 11  comp_externo3  49994 non-null  float64\n",
      " 12  comp_externo4  50000 non-null  float64\n",
      "dtypes: float64(10), int64(1), object(2)\n",
      "memory usage: 5.3+ MB\n"
     ]
    }
   ],
   "source": [
    "bd_ini_merged.info()"
   ]
  },
  {
   "cell_type": "code",
   "execution_count": 30,
   "metadata": {
    "scrolled": true
   },
   "outputs": [
    {
     "data": {
      "text/html": [
       "<div>\n",
       "<style scoped>\n",
       "    .dataframe tbody tr th:only-of-type {\n",
       "        vertical-align: middle;\n",
       "    }\n",
       "\n",
       "    .dataframe tbody tr th {\n",
       "        vertical-align: top;\n",
       "    }\n",
       "\n",
       "    .dataframe thead th {\n",
       "        text-align: right;\n",
       "    }\n",
       "</style>\n",
       "<table border=\"1\" class=\"dataframe\">\n",
       "  <thead>\n",
       "    <tr style=\"text-align: right;\">\n",
       "      <th></th>\n",
       "      <th>num_caso</th>\n",
       "      <th>mes_informacion</th>\n",
       "    </tr>\n",
       "  </thead>\n",
       "  <tbody>\n",
       "    <tr>\n",
       "      <th>0</th>\n",
       "      <td>1</td>\n",
       "      <td>2021-05-01 00:00:00</td>\n",
       "    </tr>\n",
       "    <tr>\n",
       "      <th>1</th>\n",
       "      <td>7</td>\n",
       "      <td>2018-05-01 00:00:00</td>\n",
       "    </tr>\n",
       "    <tr>\n",
       "      <th>2</th>\n",
       "      <td>8</td>\n",
       "      <td>2021-04-01 00:00:00</td>\n",
       "    </tr>\n",
       "    <tr>\n",
       "      <th>3</th>\n",
       "      <td>9</td>\n",
       "      <td>2017-04-01 00:00:00</td>\n",
       "    </tr>\n",
       "    <tr>\n",
       "      <th>4</th>\n",
       "      <td>10</td>\n",
       "      <td>2017-05-01 00:00:00</td>\n",
       "    </tr>\n",
       "  </tbody>\n",
       "</table>\n",
       "</div>"
      ],
      "text/plain": [
       "   num_caso      mes_informacion\n",
       "0         1  2021-05-01 00:00:00\n",
       "1         7  2018-05-01 00:00:00\n",
       "2         8  2021-04-01 00:00:00\n",
       "3         9  2017-04-01 00:00:00\n",
       "4        10  2017-05-01 00:00:00"
      ]
     },
     "execution_count": 30,
     "metadata": {},
     "output_type": "execute_result"
    }
   ],
   "source": [
    "bd_comp_merged = bd_comp2.groupby([\"num_caso\"], as_index=False)[\"mes_informacion\"].max()\n",
    "bd_comp_merged.head()"
   ]
  },
  {
   "cell_type": "markdown",
   "metadata": {},
   "source": [
    "Hacemos el groupby con el máximo sobre mes_informacion, pues nos interesa la informacion más reciente de cada cliente."
   ]
  },
  {
   "cell_type": "code",
   "execution_count": 31,
   "metadata": {},
   "outputs": [
    {
     "data": {
      "text/html": [
       "<div>\n",
       "<style scoped>\n",
       "    .dataframe tbody tr th:only-of-type {\n",
       "        vertical-align: middle;\n",
       "    }\n",
       "\n",
       "    .dataframe tbody tr th {\n",
       "        vertical-align: top;\n",
       "    }\n",
       "\n",
       "    .dataframe thead th {\n",
       "        text-align: right;\n",
       "    }\n",
       "</style>\n",
       "<table border=\"1\" class=\"dataframe\">\n",
       "  <thead>\n",
       "    <tr style=\"text-align: right;\">\n",
       "      <th></th>\n",
       "      <th>num_caso</th>\n",
       "      <th>mes_informacion</th>\n",
       "      <th>Tiempo_aparicion</th>\n",
       "    </tr>\n",
       "  </thead>\n",
       "  <tbody>\n",
       "    <tr>\n",
       "      <th>0</th>\n",
       "      <td>1</td>\n",
       "      <td>2021-05-01 00:00:00</td>\n",
       "      <td>61.0</td>\n",
       "    </tr>\n",
       "    <tr>\n",
       "      <th>1</th>\n",
       "      <td>7</td>\n",
       "      <td>2018-05-01 00:00:00</td>\n",
       "      <td>28.0</td>\n",
       "    </tr>\n",
       "    <tr>\n",
       "      <th>2</th>\n",
       "      <td>8</td>\n",
       "      <td>2021-04-01 00:00:00</td>\n",
       "      <td>51.0</td>\n",
       "    </tr>\n",
       "    <tr>\n",
       "      <th>3</th>\n",
       "      <td>9</td>\n",
       "      <td>2017-04-01 00:00:00</td>\n",
       "      <td>14.0</td>\n",
       "    </tr>\n",
       "    <tr>\n",
       "      <th>4</th>\n",
       "      <td>10</td>\n",
       "      <td>2017-05-01 00:00:00</td>\n",
       "      <td>15.0</td>\n",
       "    </tr>\n",
       "  </tbody>\n",
       "</table>\n",
       "</div>"
      ],
      "text/plain": [
       "   num_caso      mes_informacion  Tiempo_aparicion\n",
       "0         1  2021-05-01 00:00:00              61.0\n",
       "1         7  2018-05-01 00:00:00              28.0\n",
       "2         8  2021-04-01 00:00:00              51.0\n",
       "3         9  2017-04-01 00:00:00              14.0\n",
       "4        10  2017-05-01 00:00:00              15.0"
      ]
     },
     "execution_count": 31,
     "metadata": {},
     "output_type": "execute_result"
    }
   ],
   "source": [
    "bd_comp_merged = bd_comp_merged.merge(bd_comp2, how = \"left\", on = [\"num_caso\", \"mes_informacion\"])\n",
    "bd_comp_merged.head()"
   ]
  },
  {
   "cell_type": "code",
   "execution_count": 32,
   "metadata": {},
   "outputs": [
    {
     "name": "stdout",
     "output_type": "stream",
     "text": [
      "<class 'pandas.core.frame.DataFrame'>\n",
      "Int64Index: 49352 entries, 0 to 49351\n",
      "Data columns (total 3 columns):\n",
      " #   Column            Non-Null Count  Dtype  \n",
      "---  ------            --------------  -----  \n",
      " 0   num_caso          49352 non-null  int64  \n",
      " 1   mes_informacion   49352 non-null  object \n",
      " 2   Tiempo_aparicion  49352 non-null  float64\n",
      "dtypes: float64(1), int64(1), object(1)\n",
      "memory usage: 1.5+ MB\n"
     ]
    }
   ],
   "source": [
    "bd_comp_merged.info()"
   ]
  },
  {
   "cell_type": "code",
   "execution_count": 33,
   "metadata": {},
   "outputs": [],
   "source": [
    "bd_comp_merged = bd_comp_merged.merge(bd_comp3, how = \"left\", on = [\"num_caso\", \"mes_informacion\"])"
   ]
  },
  {
   "cell_type": "code",
   "execution_count": 34,
   "metadata": {},
   "outputs": [
    {
     "data": {
      "text/html": [
       "<div>\n",
       "<style scoped>\n",
       "    .dataframe tbody tr th:only-of-type {\n",
       "        vertical-align: middle;\n",
       "    }\n",
       "\n",
       "    .dataframe tbody tr th {\n",
       "        vertical-align: top;\n",
       "    }\n",
       "\n",
       "    .dataframe thead th {\n",
       "        text-align: right;\n",
       "    }\n",
       "</style>\n",
       "<table border=\"1\" class=\"dataframe\">\n",
       "  <thead>\n",
       "    <tr style=\"text-align: right;\">\n",
       "      <th></th>\n",
       "      <th>num_caso</th>\n",
       "      <th>mes_informacion</th>\n",
       "      <th>Tiempo_aparicion</th>\n",
       "      <th>comportamiento_j</th>\n",
       "    </tr>\n",
       "  </thead>\n",
       "  <tbody>\n",
       "    <tr>\n",
       "      <th>0</th>\n",
       "      <td>1</td>\n",
       "      <td>2021-05-01 00:00:00</td>\n",
       "      <td>61.0</td>\n",
       "      <td>0.0</td>\n",
       "    </tr>\n",
       "    <tr>\n",
       "      <th>1</th>\n",
       "      <td>7</td>\n",
       "      <td>2018-05-01 00:00:00</td>\n",
       "      <td>28.0</td>\n",
       "      <td>0.0</td>\n",
       "    </tr>\n",
       "    <tr>\n",
       "      <th>2</th>\n",
       "      <td>8</td>\n",
       "      <td>2021-04-01 00:00:00</td>\n",
       "      <td>51.0</td>\n",
       "      <td>0.0</td>\n",
       "    </tr>\n",
       "    <tr>\n",
       "      <th>3</th>\n",
       "      <td>9</td>\n",
       "      <td>2017-04-01 00:00:00</td>\n",
       "      <td>14.0</td>\n",
       "      <td>0.0</td>\n",
       "    </tr>\n",
       "    <tr>\n",
       "      <th>4</th>\n",
       "      <td>10</td>\n",
       "      <td>2017-05-01 00:00:00</td>\n",
       "      <td>15.0</td>\n",
       "      <td>0.0</td>\n",
       "    </tr>\n",
       "  </tbody>\n",
       "</table>\n",
       "</div>"
      ],
      "text/plain": [
       "   num_caso      mes_informacion  Tiempo_aparicion  comportamiento_j\n",
       "0         1  2021-05-01 00:00:00              61.0               0.0\n",
       "1         7  2018-05-01 00:00:00              28.0               0.0\n",
       "2         8  2021-04-01 00:00:00              51.0               0.0\n",
       "3         9  2017-04-01 00:00:00              14.0               0.0\n",
       "4        10  2017-05-01 00:00:00              15.0               0.0"
      ]
     },
     "execution_count": 34,
     "metadata": {},
     "output_type": "execute_result"
    }
   ],
   "source": [
    "bd_comp_merged.head()"
   ]
  },
  {
   "cell_type": "code",
   "execution_count": 35,
   "metadata": {},
   "outputs": [
    {
     "name": "stdout",
     "output_type": "stream",
     "text": [
      "<class 'pandas.core.frame.DataFrame'>\n",
      "Int64Index: 49352 entries, 0 to 49351\n",
      "Data columns (total 4 columns):\n",
      " #   Column            Non-Null Count  Dtype  \n",
      "---  ------            --------------  -----  \n",
      " 0   num_caso          49352 non-null  int64  \n",
      " 1   mes_informacion   49352 non-null  object \n",
      " 2   Tiempo_aparicion  49352 non-null  float64\n",
      " 3   comportamiento_j  49352 non-null  float64\n",
      "dtypes: float64(2), int64(1), object(1)\n",
      "memory usage: 1.9+ MB\n"
     ]
    }
   ],
   "source": [
    "bd_comp_merged.info()"
   ]
  },
  {
   "cell_type": "code",
   "execution_count": 36,
   "metadata": {},
   "outputs": [
    {
     "data": {
      "text/html": [
       "<div>\n",
       "<style scoped>\n",
       "    .dataframe tbody tr th:only-of-type {\n",
       "        vertical-align: middle;\n",
       "    }\n",
       "\n",
       "    .dataframe tbody tr th {\n",
       "        vertical-align: top;\n",
       "    }\n",
       "\n",
       "    .dataframe thead th {\n",
       "        text-align: right;\n",
       "    }\n",
       "</style>\n",
       "<table border=\"1\" class=\"dataframe\">\n",
       "  <thead>\n",
       "    <tr style=\"text-align: right;\">\n",
       "      <th></th>\n",
       "      <th>_id_</th>\n",
       "      <th>_id2_</th>\n",
       "      <th>comp_mixto1</th>\n",
       "      <th>inversion</th>\n",
       "    </tr>\n",
       "  </thead>\n",
       "  <tbody>\n",
       "    <tr>\n",
       "      <th>0</th>\n",
       "      <td>78213</td>\n",
       "      <td>1798899</td>\n",
       "      <td>0.33522</td>\n",
       "      <td>NaN</td>\n",
       "    </tr>\n",
       "    <tr>\n",
       "      <th>1</th>\n",
       "      <td>76457</td>\n",
       "      <td>1758511</td>\n",
       "      <td>0.33334</td>\n",
       "      <td>0.041039</td>\n",
       "    </tr>\n",
       "    <tr>\n",
       "      <th>2</th>\n",
       "      <td>40666</td>\n",
       "      <td>935318</td>\n",
       "      <td>0.29186</td>\n",
       "      <td>NaN</td>\n",
       "    </tr>\n",
       "    <tr>\n",
       "      <th>3</th>\n",
       "      <td>8329</td>\n",
       "      <td>191567</td>\n",
       "      <td>0.29112</td>\n",
       "      <td>NaN</td>\n",
       "    </tr>\n",
       "    <tr>\n",
       "      <th>4</th>\n",
       "      <td>68389</td>\n",
       "      <td>1572947</td>\n",
       "      <td>0.27318</td>\n",
       "      <td>77.422135</td>\n",
       "    </tr>\n",
       "  </tbody>\n",
       "</table>\n",
       "</div>"
      ],
      "text/plain": [
       "    _id_    _id2_  comp_mixto1  inversion\n",
       "0  78213  1798899      0.33522        NaN\n",
       "1  76457  1758511      0.33334   0.041039\n",
       "2  40666   935318      0.29186        NaN\n",
       "3   8329   191567      0.29112        NaN\n",
       "4  68389  1572947      0.27318  77.422135"
      ]
     },
     "execution_count": 36,
     "metadata": {},
     "output_type": "execute_result"
    }
   ],
   "source": [
    "bd_inv_merged = bd_ini_pt1.merge(bd_inver, how = \"left\", on = \"_id2_\")\n",
    "bd_inv_merged.head()"
   ]
  },
  {
   "cell_type": "code",
   "execution_count": 37,
   "metadata": {},
   "outputs": [
    {
     "name": "stdout",
     "output_type": "stream",
     "text": [
      "<class 'pandas.core.frame.DataFrame'>\n",
      "Int64Index: 50000 entries, 0 to 49999\n",
      "Data columns (total 4 columns):\n",
      " #   Column       Non-Null Count  Dtype  \n",
      "---  ------       --------------  -----  \n",
      " 0   _id_         50000 non-null  int64  \n",
      " 1   _id2_        50000 non-null  int64  \n",
      " 2   comp_mixto1  50000 non-null  float64\n",
      " 3   inversion    17536 non-null  float64\n",
      "dtypes: float64(2), int64(2)\n",
      "memory usage: 1.9 MB\n"
     ]
    }
   ],
   "source": [
    "bd_inv_merged.info()"
   ]
  },
  {
   "cell_type": "code",
   "execution_count": 38,
   "metadata": {},
   "outputs": [
    {
     "data": {
      "text/plain": [
       "_id_           50000\n",
       "_id2_          50000\n",
       "comp_mixto1     7098\n",
       "inversion      17385\n",
       "dtype: int64"
      ]
     },
     "execution_count": 38,
     "metadata": {},
     "output_type": "execute_result"
    }
   ],
   "source": [
    "bd_inv_merged.nunique()"
   ]
  },
  {
   "cell_type": "markdown",
   "metadata": {},
   "source": [
    "### Veamos en dónde y cuales id's coinciden según la base."
   ]
  },
  {
   "cell_type": "code",
   "execution_count": 39,
   "metadata": {},
   "outputs": [
    {
     "name": "stdout",
     "output_type": "stream",
     "text": [
      "50000\n",
      "50000\n",
      "49352\n",
      "49352\n",
      "50000\n",
      "50000\n"
     ]
    }
   ],
   "source": [
    "x = set(bd_ini_pt1[\"_id_\"])\n",
    "print(len(x))\n",
    "y = set(bd_ini_pt1[\"_id2_\"])\n",
    "print(len(y))\n",
    "z = set(bd_comp2[\"num_caso\"])\n",
    "print(len(z))\n",
    "w = set(bd_comp3[\"num_caso\"])\n",
    "print(len(w))\n",
    "u = set(bd_ini_int[\"_id_\"])\n",
    "print(len(u))\n",
    "v = set(bd_ini_ext[\"_id_\"])\n",
    "print(len(v))"
   ]
  },
  {
   "cell_type": "code",
   "execution_count": 40,
   "metadata": {},
   "outputs": [
    {
     "name": "stdout",
     "output_type": "stream",
     "text": [
      "1069\n",
      "49352\n",
      "49352\n",
      "1053\n",
      "1053\n",
      "49352\n",
      "50000\n"
     ]
    }
   ],
   "source": [
    "x_y = y.intersection(x)\n",
    "print(len(x_y))\n",
    "x_z = x.intersection(z)\n",
    "print(len(x_z))\n",
    "x_w = x.intersection(w)\n",
    "print(len(x_w))\n",
    "y_z = y.intersection(z)\n",
    "print(len(y_z))\n",
    "y_w = y.intersection(w)\n",
    "print(len(y_w))\n",
    "z_w = z.intersection(w)\n",
    "print(len(z_w))\n",
    "u_v = u.intersection(v)\n",
    "print(len(u_v))"
   ]
  },
  {
   "cell_type": "markdown",
   "metadata": {},
   "source": [
    "De lo siguiente podemos observar que, en gran medida, la columna _id_ de bd_ini_pt1 coincide con num_caso de ambas bases de comportamiento, por lo que cruce de esas bases con bd_ini_pt1 debería ser con la columna _id_. De la misma manera, podemos observar que la columna _id_ coincide en las bases externa e interna. Veamos si estas mismas coincide con el _id_ de bd_ini_pt1."
   ]
  },
  {
   "cell_type": "code",
   "execution_count": 41,
   "metadata": {},
   "outputs": [
    {
     "data": {
      "text/plain": [
       "50000"
      ]
     },
     "execution_count": 41,
     "metadata": {},
     "output_type": "execute_result"
    }
   ],
   "source": [
    "u_v_x = u_v.intersection(x)\n",
    "len(u_v_x)"
   ]
  },
  {
   "cell_type": "markdown",
   "metadata": {},
   "source": [
    "Efectivamente, estos id's coinciden, por lo que el agrupamiento de estas bases debería ser sobre la columna id."
   ]
  },
  {
   "cell_type": "code",
   "execution_count": 42,
   "metadata": {},
   "outputs": [
    {
     "data": {
      "text/html": [
       "<div>\n",
       "<style scoped>\n",
       "    .dataframe tbody tr th:only-of-type {\n",
       "        vertical-align: middle;\n",
       "    }\n",
       "\n",
       "    .dataframe tbody tr th {\n",
       "        vertical-align: top;\n",
       "    }\n",
       "\n",
       "    .dataframe thead th {\n",
       "        text-align: right;\n",
       "    }\n",
       "</style>\n",
       "<table border=\"1\" class=\"dataframe\">\n",
       "  <thead>\n",
       "    <tr style=\"text-align: right;\">\n",
       "      <th></th>\n",
       "      <th>_id_</th>\n",
       "      <th>_id2_</th>\n",
       "      <th>comp_mixto1</th>\n",
       "      <th>fecha_inicio</th>\n",
       "      <th>comp_interno1</th>\n",
       "      <th>comp_interno2</th>\n",
       "      <th>comp_interno3</th>\n",
       "      <th>comp_interno4</th>\n",
       "      <th>categoria1</th>\n",
       "      <th>categoria2</th>\n",
       "      <th>categoria3</th>\n",
       "    </tr>\n",
       "  </thead>\n",
       "  <tbody>\n",
       "    <tr>\n",
       "      <th>17236</th>\n",
       "      <td>2333</td>\n",
       "      <td>53659</td>\n",
       "      <td>0.32856</td>\n",
       "      <td>2016-01-04</td>\n",
       "      <td>6079.027356</td>\n",
       "      <td>b'1'</td>\n",
       "      <td>30.0</td>\n",
       "      <td>50.0</td>\n",
       "      <td>2.0</td>\n",
       "      <td>9.0</td>\n",
       "      <td>175.0</td>\n",
       "    </tr>\n",
       "    <tr>\n",
       "      <th>47365</th>\n",
       "      <td>488</td>\n",
       "      <td>11224</td>\n",
       "      <td>0.38498</td>\n",
       "      <td>2016-01-04</td>\n",
       "      <td>911.854103</td>\n",
       "      <td>b'0'</td>\n",
       "      <td>19.0</td>\n",
       "      <td>48.0</td>\n",
       "      <td>3.0</td>\n",
       "      <td>3.0</td>\n",
       "      <td>164.0</td>\n",
       "    </tr>\n",
       "    <tr>\n",
       "      <th>21961</th>\n",
       "      <td>1964</td>\n",
       "      <td>45172</td>\n",
       "      <td>0.34780</td>\n",
       "      <td>2016-01-04</td>\n",
       "      <td>0.000000</td>\n",
       "      <td>b'1'</td>\n",
       "      <td>19.0</td>\n",
       "      <td>53.0</td>\n",
       "      <td>4.0</td>\n",
       "      <td>3.0</td>\n",
       "      <td>164.0</td>\n",
       "    </tr>\n",
       "    <tr>\n",
       "      <th>49384</th>\n",
       "      <td>1220</td>\n",
       "      <td>28060</td>\n",
       "      <td>0.28422</td>\n",
       "      <td>2016-01-04</td>\n",
       "      <td>2482.269504</td>\n",
       "      <td>b'0'</td>\n",
       "      <td>9.0</td>\n",
       "      <td>70.0</td>\n",
       "      <td>3.0</td>\n",
       "      <td>9.0</td>\n",
       "      <td>154.0</td>\n",
       "    </tr>\n",
       "    <tr>\n",
       "      <th>16983</th>\n",
       "      <td>1226</td>\n",
       "      <td>28198</td>\n",
       "      <td>0.31500</td>\n",
       "      <td>2016-01-04</td>\n",
       "      <td>0.000000</td>\n",
       "      <td>b'1'</td>\n",
       "      <td>3.0</td>\n",
       "      <td>75.0</td>\n",
       "      <td>3.0</td>\n",
       "      <td>9.0</td>\n",
       "      <td>148.0</td>\n",
       "    </tr>\n",
       "  </tbody>\n",
       "</table>\n",
       "</div>"
      ],
      "text/plain": [
       "       _id_  _id2_  comp_mixto1 fecha_inicio  comp_interno1 comp_interno2  \\\n",
       "17236  2333  53659      0.32856   2016-01-04    6079.027356          b'1'   \n",
       "47365   488  11224      0.38498   2016-01-04     911.854103          b'0'   \n",
       "21961  1964  45172      0.34780   2016-01-04       0.000000          b'1'   \n",
       "49384  1220  28060      0.28422   2016-01-04    2482.269504          b'0'   \n",
       "16983  1226  28198      0.31500   2016-01-04       0.000000          b'1'   \n",
       "\n",
       "       comp_interno3  comp_interno4  categoria1  categoria2  categoria3  \n",
       "17236           30.0           50.0         2.0         9.0       175.0  \n",
       "47365           19.0           48.0         3.0         3.0       164.0  \n",
       "21961           19.0           53.0         4.0         3.0       164.0  \n",
       "49384            9.0           70.0         3.0         9.0       154.0  \n",
       "16983            3.0           75.0         3.0         9.0       148.0  "
      ]
     },
     "execution_count": 42,
     "metadata": {},
     "output_type": "execute_result"
    }
   ],
   "source": [
    "bd_id = bd_ini_pt1.merge(bd_ini_int, how = \"left\", on = \"_id_\")\n",
    "bd_id = bd_id.sort_values(by = \"fecha_inicio\")\n",
    "bd_id.head()"
   ]
  },
  {
   "cell_type": "code",
   "execution_count": 43,
   "metadata": {},
   "outputs": [
    {
     "name": "stdout",
     "output_type": "stream",
     "text": [
      "<class 'pandas.core.frame.DataFrame'>\n",
      "Int64Index: 50000 entries, 17236 to 32134\n",
      "Data columns (total 11 columns):\n",
      " #   Column         Non-Null Count  Dtype  \n",
      "---  ------         --------------  -----  \n",
      " 0   _id_           50000 non-null  int64  \n",
      " 1   _id2_          50000 non-null  int64  \n",
      " 2   comp_mixto1    50000 non-null  float64\n",
      " 3   fecha_inicio   50000 non-null  object \n",
      " 4   comp_interno1  50000 non-null  float64\n",
      " 5   comp_interno2  50000 non-null  object \n",
      " 6   comp_interno3  50000 non-null  float64\n",
      " 7   comp_interno4  50000 non-null  float64\n",
      " 8   categoria1     50000 non-null  float64\n",
      " 9   categoria2     50000 non-null  float64\n",
      " 10  categoria3     50000 non-null  float64\n",
      "dtypes: float64(7), int64(2), object(2)\n",
      "memory usage: 4.6+ MB\n"
     ]
    }
   ],
   "source": [
    "bd_id.info()"
   ]
  },
  {
   "cell_type": "code",
   "execution_count": 44,
   "metadata": {},
   "outputs": [
    {
     "data": {
      "text/plain": [
       "_id_             50000\n",
       "_id2_            50000\n",
       "comp_mixto1       7098\n",
       "fecha_inicio      1557\n",
       "comp_interno1      680\n",
       "comp_interno2        2\n",
       "comp_interno3       32\n",
       "comp_interno4       55\n",
       "categoria1           6\n",
       "categoria2          13\n",
       "categoria3          32\n",
       "dtype: int64"
      ]
     },
     "execution_count": 44,
     "metadata": {},
     "output_type": "execute_result"
    }
   ],
   "source": [
    "bd_id.nunique()"
   ]
  },
  {
   "cell_type": "code",
   "execution_count": 45,
   "metadata": {},
   "outputs": [
    {
     "data": {
      "text/html": [
       "<div>\n",
       "<style scoped>\n",
       "    .dataframe tbody tr th:only-of-type {\n",
       "        vertical-align: middle;\n",
       "    }\n",
       "\n",
       "    .dataframe tbody tr th {\n",
       "        vertical-align: top;\n",
       "    }\n",
       "\n",
       "    .dataframe thead th {\n",
       "        text-align: right;\n",
       "    }\n",
       "</style>\n",
       "<table border=\"1\" class=\"dataframe\">\n",
       "  <thead>\n",
       "    <tr style=\"text-align: right;\">\n",
       "      <th></th>\n",
       "      <th>_id_</th>\n",
       "      <th>_id2_</th>\n",
       "      <th>comp_mixto1</th>\n",
       "      <th>fecha_inicio</th>\n",
       "      <th>comp_interno1</th>\n",
       "      <th>comp_interno2</th>\n",
       "      <th>comp_interno3</th>\n",
       "      <th>comp_interno4</th>\n",
       "      <th>categoria1</th>\n",
       "      <th>categoria2</th>\n",
       "      <th>categoria3</th>\n",
       "      <th>inversion</th>\n",
       "    </tr>\n",
       "  </thead>\n",
       "  <tbody>\n",
       "    <tr>\n",
       "      <th>0</th>\n",
       "      <td>2333</td>\n",
       "      <td>53659</td>\n",
       "      <td>0.32856</td>\n",
       "      <td>2016-01-04</td>\n",
       "      <td>6079.027356</td>\n",
       "      <td>b'1'</td>\n",
       "      <td>30.0</td>\n",
       "      <td>50.0</td>\n",
       "      <td>2.0</td>\n",
       "      <td>9.0</td>\n",
       "      <td>175.0</td>\n",
       "      <td>NaN</td>\n",
       "    </tr>\n",
       "    <tr>\n",
       "      <th>1</th>\n",
       "      <td>488</td>\n",
       "      <td>11224</td>\n",
       "      <td>0.38498</td>\n",
       "      <td>2016-01-04</td>\n",
       "      <td>911.854103</td>\n",
       "      <td>b'0'</td>\n",
       "      <td>19.0</td>\n",
       "      <td>48.0</td>\n",
       "      <td>3.0</td>\n",
       "      <td>3.0</td>\n",
       "      <td>164.0</td>\n",
       "      <td>NaN</td>\n",
       "    </tr>\n",
       "    <tr>\n",
       "      <th>2</th>\n",
       "      <td>1964</td>\n",
       "      <td>45172</td>\n",
       "      <td>0.34780</td>\n",
       "      <td>2016-01-04</td>\n",
       "      <td>0.000000</td>\n",
       "      <td>b'1'</td>\n",
       "      <td>19.0</td>\n",
       "      <td>53.0</td>\n",
       "      <td>4.0</td>\n",
       "      <td>3.0</td>\n",
       "      <td>164.0</td>\n",
       "      <td>NaN</td>\n",
       "    </tr>\n",
       "    <tr>\n",
       "      <th>3</th>\n",
       "      <td>1220</td>\n",
       "      <td>28060</td>\n",
       "      <td>0.28422</td>\n",
       "      <td>2016-01-04</td>\n",
       "      <td>2482.269504</td>\n",
       "      <td>b'0'</td>\n",
       "      <td>9.0</td>\n",
       "      <td>70.0</td>\n",
       "      <td>3.0</td>\n",
       "      <td>9.0</td>\n",
       "      <td>154.0</td>\n",
       "      <td>NaN</td>\n",
       "    </tr>\n",
       "    <tr>\n",
       "      <th>4</th>\n",
       "      <td>1226</td>\n",
       "      <td>28198</td>\n",
       "      <td>0.31500</td>\n",
       "      <td>2016-01-04</td>\n",
       "      <td>0.000000</td>\n",
       "      <td>b'1'</td>\n",
       "      <td>3.0</td>\n",
       "      <td>75.0</td>\n",
       "      <td>3.0</td>\n",
       "      <td>9.0</td>\n",
       "      <td>148.0</td>\n",
       "      <td>0.311552</td>\n",
       "    </tr>\n",
       "  </tbody>\n",
       "</table>\n",
       "</div>"
      ],
      "text/plain": [
       "   _id_  _id2_  comp_mixto1 fecha_inicio  comp_interno1 comp_interno2  \\\n",
       "0  2333  53659      0.32856   2016-01-04    6079.027356          b'1'   \n",
       "1   488  11224      0.38498   2016-01-04     911.854103          b'0'   \n",
       "2  1964  45172      0.34780   2016-01-04       0.000000          b'1'   \n",
       "3  1220  28060      0.28422   2016-01-04    2482.269504          b'0'   \n",
       "4  1226  28198      0.31500   2016-01-04       0.000000          b'1'   \n",
       "\n",
       "   comp_interno3  comp_interno4  categoria1  categoria2  categoria3  inversion  \n",
       "0           30.0           50.0         2.0         9.0       175.0        NaN  \n",
       "1           19.0           48.0         3.0         3.0       164.0        NaN  \n",
       "2           19.0           53.0         4.0         3.0       164.0        NaN  \n",
       "3            9.0           70.0         3.0         9.0       154.0        NaN  \n",
       "4            3.0           75.0         3.0         9.0       148.0   0.311552  "
      ]
     },
     "execution_count": 45,
     "metadata": {},
     "output_type": "execute_result"
    }
   ],
   "source": [
    "bd_final = bd_id.merge(bd_inv_merged, how = \"inner\", on = [\"_id2_\", \"_id_\", \"comp_mixto1\"])\n",
    "bd_final.head()"
   ]
  },
  {
   "cell_type": "code",
   "execution_count": 46,
   "metadata": {},
   "outputs": [
    {
     "name": "stdout",
     "output_type": "stream",
     "text": [
      "<class 'pandas.core.frame.DataFrame'>\n",
      "Int64Index: 50000 entries, 0 to 49999\n",
      "Data columns (total 12 columns):\n",
      " #   Column         Non-Null Count  Dtype  \n",
      "---  ------         --------------  -----  \n",
      " 0   _id_           50000 non-null  int64  \n",
      " 1   _id2_          50000 non-null  int64  \n",
      " 2   comp_mixto1    50000 non-null  float64\n",
      " 3   fecha_inicio   50000 non-null  object \n",
      " 4   comp_interno1  50000 non-null  float64\n",
      " 5   comp_interno2  50000 non-null  object \n",
      " 6   comp_interno3  50000 non-null  float64\n",
      " 7   comp_interno4  50000 non-null  float64\n",
      " 8   categoria1     50000 non-null  float64\n",
      " 9   categoria2     50000 non-null  float64\n",
      " 10  categoria3     50000 non-null  float64\n",
      " 11  inversion      17536 non-null  float64\n",
      "dtypes: float64(8), int64(2), object(2)\n",
      "memory usage: 5.0+ MB\n"
     ]
    }
   ],
   "source": [
    "bd_final.info()"
   ]
  },
  {
   "cell_type": "code",
   "execution_count": 47,
   "metadata": {},
   "outputs": [
    {
     "data": {
      "text/html": [
       "<div>\n",
       "<style scoped>\n",
       "    .dataframe tbody tr th:only-of-type {\n",
       "        vertical-align: middle;\n",
       "    }\n",
       "\n",
       "    .dataframe tbody tr th {\n",
       "        vertical-align: top;\n",
       "    }\n",
       "\n",
       "    .dataframe thead th {\n",
       "        text-align: right;\n",
       "    }\n",
       "</style>\n",
       "<table border=\"1\" class=\"dataframe\">\n",
       "  <thead>\n",
       "    <tr style=\"text-align: right;\">\n",
       "      <th></th>\n",
       "      <th>_id_</th>\n",
       "      <th>_id2_</th>\n",
       "      <th>comp_mixto1</th>\n",
       "      <th>fecha_inicio</th>\n",
       "      <th>comp_interno1</th>\n",
       "      <th>comp_interno2</th>\n",
       "      <th>comp_interno3</th>\n",
       "      <th>comp_interno4</th>\n",
       "      <th>categoria1</th>\n",
       "      <th>categoria2</th>\n",
       "      <th>categoria3</th>\n",
       "      <th>inversion</th>\n",
       "    </tr>\n",
       "  </thead>\n",
       "  <tbody>\n",
       "    <tr>\n",
       "      <th>1864</th>\n",
       "      <td>1</td>\n",
       "      <td>23</td>\n",
       "      <td>0.38000</td>\n",
       "      <td>2016-03-31</td>\n",
       "      <td>3039.513678</td>\n",
       "      <td>b'1'</td>\n",
       "      <td>26.0</td>\n",
       "      <td>67.0</td>\n",
       "      <td>3.0</td>\n",
       "      <td>3.0</td>\n",
       "      <td>171.0</td>\n",
       "      <td>52.500490</td>\n",
       "    </tr>\n",
       "    <tr>\n",
       "      <th>238</th>\n",
       "      <td>7</td>\n",
       "      <td>161</td>\n",
       "      <td>0.33360</td>\n",
       "      <td>2016-01-19</td>\n",
       "      <td>1547.112462</td>\n",
       "      <td>b'1'</td>\n",
       "      <td>28.0</td>\n",
       "      <td>75.0</td>\n",
       "      <td>1.0</td>\n",
       "      <td>11.0</td>\n",
       "      <td>173.0</td>\n",
       "      <td>0.047480</td>\n",
       "    </tr>\n",
       "    <tr>\n",
       "      <th>718</th>\n",
       "      <td>8</td>\n",
       "      <td>184</td>\n",
       "      <td>0.27898</td>\n",
       "      <td>2016-02-10</td>\n",
       "      <td>1215.805471</td>\n",
       "      <td>b'1'</td>\n",
       "      <td>14.0</td>\n",
       "      <td>55.0</td>\n",
       "      <td>2.0</td>\n",
       "      <td>6.0</td>\n",
       "      <td>159.0</td>\n",
       "      <td>227.537211</td>\n",
       "    </tr>\n",
       "    <tr>\n",
       "      <th>909</th>\n",
       "      <td>9</td>\n",
       "      <td>207</td>\n",
       "      <td>0.38000</td>\n",
       "      <td>2016-02-18</td>\n",
       "      <td>0.000000</td>\n",
       "      <td>b'1'</td>\n",
       "      <td>11.0</td>\n",
       "      <td>55.0</td>\n",
       "      <td>2.0</td>\n",
       "      <td>9.0</td>\n",
       "      <td>156.0</td>\n",
       "      <td>0.921995</td>\n",
       "    </tr>\n",
       "    <tr>\n",
       "      <th>914</th>\n",
       "      <td>10</td>\n",
       "      <td>230</td>\n",
       "      <td>0.37050</td>\n",
       "      <td>2016-02-18</td>\n",
       "      <td>0.000000</td>\n",
       "      <td>b'1'</td>\n",
       "      <td>11.0</td>\n",
       "      <td>56.0</td>\n",
       "      <td>2.0</td>\n",
       "      <td>6.0</td>\n",
       "      <td>156.0</td>\n",
       "      <td>39.259568</td>\n",
       "    </tr>\n",
       "    <tr>\n",
       "      <th>...</th>\n",
       "      <td>...</td>\n",
       "      <td>...</td>\n",
       "      <td>...</td>\n",
       "      <td>...</td>\n",
       "      <td>...</td>\n",
       "      <td>...</td>\n",
       "      <td>...</td>\n",
       "      <td>...</td>\n",
       "      <td>...</td>\n",
       "      <td>...</td>\n",
       "      <td>...</td>\n",
       "      <td>...</td>\n",
       "    </tr>\n",
       "    <tr>\n",
       "      <th>49735</th>\n",
       "      <td>98987</td>\n",
       "      <td>2276701</td>\n",
       "      <td>0.33712</td>\n",
       "      <td>2021-04-13</td>\n",
       "      <td>0.000000</td>\n",
       "      <td>b'1'</td>\n",
       "      <td>23.0</td>\n",
       "      <td>51.0</td>\n",
       "      <td>3.0</td>\n",
       "      <td>9.0</td>\n",
       "      <td>168.0</td>\n",
       "      <td>NaN</td>\n",
       "    </tr>\n",
       "    <tr>\n",
       "      <th>49764</th>\n",
       "      <td>98988</td>\n",
       "      <td>2276724</td>\n",
       "      <td>0.26010</td>\n",
       "      <td>2021-04-14</td>\n",
       "      <td>2026.342452</td>\n",
       "      <td>b'1'</td>\n",
       "      <td>19.0</td>\n",
       "      <td>63.0</td>\n",
       "      <td>3.0</td>\n",
       "      <td>9.0</td>\n",
       "      <td>164.0</td>\n",
       "      <td>2596.865519</td>\n",
       "    </tr>\n",
       "    <tr>\n",
       "      <th>49996</th>\n",
       "      <td>98990</td>\n",
       "      <td>2276770</td>\n",
       "      <td>0.30434</td>\n",
       "      <td>2021-04-29</td>\n",
       "      <td>0.000000</td>\n",
       "      <td>b'1'</td>\n",
       "      <td>17.0</td>\n",
       "      <td>60.0</td>\n",
       "      <td>2.0</td>\n",
       "      <td>9.0</td>\n",
       "      <td>162.0</td>\n",
       "      <td>107.495449</td>\n",
       "    </tr>\n",
       "    <tr>\n",
       "      <th>49992</th>\n",
       "      <td>98992</td>\n",
       "      <td>2276816</td>\n",
       "      <td>0.30506</td>\n",
       "      <td>2021-04-29</td>\n",
       "      <td>0.000000</td>\n",
       "      <td>b'1'</td>\n",
       "      <td>15.0</td>\n",
       "      <td>47.0</td>\n",
       "      <td>1.0</td>\n",
       "      <td>9.0</td>\n",
       "      <td>160.0</td>\n",
       "      <td>9.822964</td>\n",
       "    </tr>\n",
       "    <tr>\n",
       "      <th>49904</th>\n",
       "      <td>98997</td>\n",
       "      <td>2276931</td>\n",
       "      <td>0.35322</td>\n",
       "      <td>2021-04-21</td>\n",
       "      <td>0.000000</td>\n",
       "      <td>b'0'</td>\n",
       "      <td>15.0</td>\n",
       "      <td>43.0</td>\n",
       "      <td>1.0</td>\n",
       "      <td>9.0</td>\n",
       "      <td>160.0</td>\n",
       "      <td>NaN</td>\n",
       "    </tr>\n",
       "  </tbody>\n",
       "</table>\n",
       "<p>50000 rows × 12 columns</p>\n",
       "</div>"
      ],
      "text/plain": [
       "        _id_    _id2_  comp_mixto1 fecha_inicio  comp_interno1 comp_interno2  \\\n",
       "1864       1       23      0.38000   2016-03-31    3039.513678          b'1'   \n",
       "238        7      161      0.33360   2016-01-19    1547.112462          b'1'   \n",
       "718        8      184      0.27898   2016-02-10    1215.805471          b'1'   \n",
       "909        9      207      0.38000   2016-02-18       0.000000          b'1'   \n",
       "914       10      230      0.37050   2016-02-18       0.000000          b'1'   \n",
       "...      ...      ...          ...          ...            ...           ...   \n",
       "49735  98987  2276701      0.33712   2021-04-13       0.000000          b'1'   \n",
       "49764  98988  2276724      0.26010   2021-04-14    2026.342452          b'1'   \n",
       "49996  98990  2276770      0.30434   2021-04-29       0.000000          b'1'   \n",
       "49992  98992  2276816      0.30506   2021-04-29       0.000000          b'1'   \n",
       "49904  98997  2276931      0.35322   2021-04-21       0.000000          b'0'   \n",
       "\n",
       "       comp_interno3  comp_interno4  categoria1  categoria2  categoria3  \\\n",
       "1864            26.0           67.0         3.0         3.0       171.0   \n",
       "238             28.0           75.0         1.0        11.0       173.0   \n",
       "718             14.0           55.0         2.0         6.0       159.0   \n",
       "909             11.0           55.0         2.0         9.0       156.0   \n",
       "914             11.0           56.0         2.0         6.0       156.0   \n",
       "...              ...            ...         ...         ...         ...   \n",
       "49735           23.0           51.0         3.0         9.0       168.0   \n",
       "49764           19.0           63.0         3.0         9.0       164.0   \n",
       "49996           17.0           60.0         2.0         9.0       162.0   \n",
       "49992           15.0           47.0         1.0         9.0       160.0   \n",
       "49904           15.0           43.0         1.0         9.0       160.0   \n",
       "\n",
       "         inversion  \n",
       "1864     52.500490  \n",
       "238       0.047480  \n",
       "718     227.537211  \n",
       "909       0.921995  \n",
       "914      39.259568  \n",
       "...            ...  \n",
       "49735          NaN  \n",
       "49764  2596.865519  \n",
       "49996   107.495449  \n",
       "49992     9.822964  \n",
       "49904          NaN  \n",
       "\n",
       "[50000 rows x 12 columns]"
      ]
     },
     "execution_count": 47,
     "metadata": {},
     "output_type": "execute_result"
    }
   ],
   "source": [
    "bd_final.sort_values(by = \"_id_\")"
   ]
  },
  {
   "cell_type": "markdown",
   "metadata": {},
   "source": [
    "De esta manera sólo nos falta agrupar bd_comp_merged y bd_final"
   ]
  },
  {
   "cell_type": "code",
   "execution_count": 48,
   "metadata": {},
   "outputs": [
    {
     "data": {
      "text/html": [
       "<div>\n",
       "<style scoped>\n",
       "    .dataframe tbody tr th:only-of-type {\n",
       "        vertical-align: middle;\n",
       "    }\n",
       "\n",
       "    .dataframe tbody tr th {\n",
       "        vertical-align: top;\n",
       "    }\n",
       "\n",
       "    .dataframe thead th {\n",
       "        text-align: right;\n",
       "    }\n",
       "</style>\n",
       "<table border=\"1\" class=\"dataframe\">\n",
       "  <thead>\n",
       "    <tr style=\"text-align: right;\">\n",
       "      <th></th>\n",
       "      <th>num_caso</th>\n",
       "      <th>mes_informacion</th>\n",
       "      <th>Tiempo_aparicion</th>\n",
       "      <th>comportamiento_j</th>\n",
       "    </tr>\n",
       "  </thead>\n",
       "  <tbody>\n",
       "    <tr>\n",
       "      <th>0</th>\n",
       "      <td>1</td>\n",
       "      <td>2021-05-01 00:00:00</td>\n",
       "      <td>61.0</td>\n",
       "      <td>0.0</td>\n",
       "    </tr>\n",
       "    <tr>\n",
       "      <th>1</th>\n",
       "      <td>7</td>\n",
       "      <td>2018-05-01 00:00:00</td>\n",
       "      <td>28.0</td>\n",
       "      <td>0.0</td>\n",
       "    </tr>\n",
       "    <tr>\n",
       "      <th>2</th>\n",
       "      <td>8</td>\n",
       "      <td>2021-04-01 00:00:00</td>\n",
       "      <td>51.0</td>\n",
       "      <td>0.0</td>\n",
       "    </tr>\n",
       "    <tr>\n",
       "      <th>3</th>\n",
       "      <td>9</td>\n",
       "      <td>2017-04-01 00:00:00</td>\n",
       "      <td>14.0</td>\n",
       "      <td>0.0</td>\n",
       "    </tr>\n",
       "    <tr>\n",
       "      <th>4</th>\n",
       "      <td>10</td>\n",
       "      <td>2017-05-01 00:00:00</td>\n",
       "      <td>15.0</td>\n",
       "      <td>0.0</td>\n",
       "    </tr>\n",
       "  </tbody>\n",
       "</table>\n",
       "</div>"
      ],
      "text/plain": [
       "   num_caso      mes_informacion  Tiempo_aparicion  comportamiento_j\n",
       "0         1  2021-05-01 00:00:00              61.0               0.0\n",
       "1         7  2018-05-01 00:00:00              28.0               0.0\n",
       "2         8  2021-04-01 00:00:00              51.0               0.0\n",
       "3         9  2017-04-01 00:00:00              14.0               0.0\n",
       "4        10  2017-05-01 00:00:00              15.0               0.0"
      ]
     },
     "execution_count": 48,
     "metadata": {},
     "output_type": "execute_result"
    }
   ],
   "source": [
    "bd_comp_merged.head()"
   ]
  },
  {
   "cell_type": "code",
   "execution_count": 51,
   "metadata": {},
   "outputs": [],
   "source": [
    "bd_comp_merged.rename(columns={\"num_caso\": \"_id_\"},inplace=True)"
   ]
  },
  {
   "cell_type": "code",
   "execution_count": 52,
   "metadata": {},
   "outputs": [
    {
     "data": {
      "text/html": [
       "<div>\n",
       "<style scoped>\n",
       "    .dataframe tbody tr th:only-of-type {\n",
       "        vertical-align: middle;\n",
       "    }\n",
       "\n",
       "    .dataframe tbody tr th {\n",
       "        vertical-align: top;\n",
       "    }\n",
       "\n",
       "    .dataframe thead th {\n",
       "        text-align: right;\n",
       "    }\n",
       "</style>\n",
       "<table border=\"1\" class=\"dataframe\">\n",
       "  <thead>\n",
       "    <tr style=\"text-align: right;\">\n",
       "      <th></th>\n",
       "      <th>_id_</th>\n",
       "      <th>mes_informacion</th>\n",
       "      <th>Tiempo_aparicion</th>\n",
       "      <th>comportamiento_j</th>\n",
       "    </tr>\n",
       "  </thead>\n",
       "  <tbody>\n",
       "    <tr>\n",
       "      <th>0</th>\n",
       "      <td>1</td>\n",
       "      <td>2021-05-01 00:00:00</td>\n",
       "      <td>61.0</td>\n",
       "      <td>0.0</td>\n",
       "    </tr>\n",
       "    <tr>\n",
       "      <th>1</th>\n",
       "      <td>7</td>\n",
       "      <td>2018-05-01 00:00:00</td>\n",
       "      <td>28.0</td>\n",
       "      <td>0.0</td>\n",
       "    </tr>\n",
       "    <tr>\n",
       "      <th>2</th>\n",
       "      <td>8</td>\n",
       "      <td>2021-04-01 00:00:00</td>\n",
       "      <td>51.0</td>\n",
       "      <td>0.0</td>\n",
       "    </tr>\n",
       "    <tr>\n",
       "      <th>3</th>\n",
       "      <td>9</td>\n",
       "      <td>2017-04-01 00:00:00</td>\n",
       "      <td>14.0</td>\n",
       "      <td>0.0</td>\n",
       "    </tr>\n",
       "    <tr>\n",
       "      <th>4</th>\n",
       "      <td>10</td>\n",
       "      <td>2017-05-01 00:00:00</td>\n",
       "      <td>15.0</td>\n",
       "      <td>0.0</td>\n",
       "    </tr>\n",
       "  </tbody>\n",
       "</table>\n",
       "</div>"
      ],
      "text/plain": [
       "   _id_      mes_informacion  Tiempo_aparicion  comportamiento_j\n",
       "0     1  2021-05-01 00:00:00              61.0               0.0\n",
       "1     7  2018-05-01 00:00:00              28.0               0.0\n",
       "2     8  2021-04-01 00:00:00              51.0               0.0\n",
       "3     9  2017-04-01 00:00:00              14.0               0.0\n",
       "4    10  2017-05-01 00:00:00              15.0               0.0"
      ]
     },
     "execution_count": 52,
     "metadata": {},
     "output_type": "execute_result"
    }
   ],
   "source": [
    "bd_comp_merged.head()"
   ]
  },
  {
   "cell_type": "code",
   "execution_count": 54,
   "metadata": {},
   "outputs": [],
   "source": [
    "bd_final = bd_final.merge(bd_comp_merged, how = \"left\", on = \"_id_\")"
   ]
  },
  {
   "cell_type": "code",
   "execution_count": 59,
   "metadata": {},
   "outputs": [
    {
     "data": {
      "text/html": [
       "<div>\n",
       "<style scoped>\n",
       "    .dataframe tbody tr th:only-of-type {\n",
       "        vertical-align: middle;\n",
       "    }\n",
       "\n",
       "    .dataframe tbody tr th {\n",
       "        vertical-align: top;\n",
       "    }\n",
       "\n",
       "    .dataframe thead th {\n",
       "        text-align: right;\n",
       "    }\n",
       "</style>\n",
       "<table border=\"1\" class=\"dataframe\">\n",
       "  <thead>\n",
       "    <tr style=\"text-align: right;\">\n",
       "      <th></th>\n",
       "      <th>_id_</th>\n",
       "      <th>_id2_</th>\n",
       "      <th>comp_mixto1</th>\n",
       "      <th>fecha_inicio</th>\n",
       "      <th>comp_interno1</th>\n",
       "      <th>comp_interno2</th>\n",
       "      <th>comp_interno3</th>\n",
       "      <th>comp_interno4</th>\n",
       "      <th>categoria1</th>\n",
       "      <th>categoria2</th>\n",
       "      <th>categoria3</th>\n",
       "      <th>inversion</th>\n",
       "      <th>mes_informacion</th>\n",
       "      <th>Tiempo_aparicion</th>\n",
       "      <th>comportamiento_j</th>\n",
       "    </tr>\n",
       "  </thead>\n",
       "  <tbody>\n",
       "    <tr>\n",
       "      <th>0</th>\n",
       "      <td>2333</td>\n",
       "      <td>53659</td>\n",
       "      <td>0.32856</td>\n",
       "      <td>2016-01-04</td>\n",
       "      <td>6079.027356</td>\n",
       "      <td>b'1'</td>\n",
       "      <td>30.0</td>\n",
       "      <td>50.0</td>\n",
       "      <td>2.0</td>\n",
       "      <td>9.0</td>\n",
       "      <td>175.0</td>\n",
       "      <td>NaN</td>\n",
       "      <td>2021-05-01 00:00:00</td>\n",
       "      <td>52.0</td>\n",
       "      <td>0.0</td>\n",
       "    </tr>\n",
       "    <tr>\n",
       "      <th>1</th>\n",
       "      <td>488</td>\n",
       "      <td>11224</td>\n",
       "      <td>0.38498</td>\n",
       "      <td>2016-01-04</td>\n",
       "      <td>911.854103</td>\n",
       "      <td>b'0'</td>\n",
       "      <td>19.0</td>\n",
       "      <td>48.0</td>\n",
       "      <td>3.0</td>\n",
       "      <td>3.0</td>\n",
       "      <td>164.0</td>\n",
       "      <td>NaN</td>\n",
       "      <td>2021-05-01 00:00:00</td>\n",
       "      <td>64.0</td>\n",
       "      <td>0.0</td>\n",
       "    </tr>\n",
       "    <tr>\n",
       "      <th>2</th>\n",
       "      <td>1964</td>\n",
       "      <td>45172</td>\n",
       "      <td>0.34780</td>\n",
       "      <td>2016-01-04</td>\n",
       "      <td>0.000000</td>\n",
       "      <td>b'1'</td>\n",
       "      <td>19.0</td>\n",
       "      <td>53.0</td>\n",
       "      <td>4.0</td>\n",
       "      <td>3.0</td>\n",
       "      <td>164.0</td>\n",
       "      <td>NaN</td>\n",
       "      <td>2021-05-01 00:00:00</td>\n",
       "      <td>64.0</td>\n",
       "      <td>0.0</td>\n",
       "    </tr>\n",
       "    <tr>\n",
       "      <th>3</th>\n",
       "      <td>1220</td>\n",
       "      <td>28060</td>\n",
       "      <td>0.28422</td>\n",
       "      <td>2016-01-04</td>\n",
       "      <td>2482.269504</td>\n",
       "      <td>b'0'</td>\n",
       "      <td>9.0</td>\n",
       "      <td>70.0</td>\n",
       "      <td>3.0</td>\n",
       "      <td>9.0</td>\n",
       "      <td>154.0</td>\n",
       "      <td>NaN</td>\n",
       "      <td>2021-05-01 00:00:00</td>\n",
       "      <td>58.0</td>\n",
       "      <td>0.0</td>\n",
       "    </tr>\n",
       "    <tr>\n",
       "      <th>4</th>\n",
       "      <td>1226</td>\n",
       "      <td>28198</td>\n",
       "      <td>0.31500</td>\n",
       "      <td>2016-01-04</td>\n",
       "      <td>0.000000</td>\n",
       "      <td>b'1'</td>\n",
       "      <td>3.0</td>\n",
       "      <td>75.0</td>\n",
       "      <td>3.0</td>\n",
       "      <td>9.0</td>\n",
       "      <td>148.0</td>\n",
       "      <td>0.311552</td>\n",
       "      <td>2018-10-01 00:00:00</td>\n",
       "      <td>33.0</td>\n",
       "      <td>0.0</td>\n",
       "    </tr>\n",
       "  </tbody>\n",
       "</table>\n",
       "</div>"
      ],
      "text/plain": [
       "   _id_  _id2_  comp_mixto1 fecha_inicio  comp_interno1 comp_interno2  \\\n",
       "0  2333  53659      0.32856   2016-01-04    6079.027356          b'1'   \n",
       "1   488  11224      0.38498   2016-01-04     911.854103          b'0'   \n",
       "2  1964  45172      0.34780   2016-01-04       0.000000          b'1'   \n",
       "3  1220  28060      0.28422   2016-01-04    2482.269504          b'0'   \n",
       "4  1226  28198      0.31500   2016-01-04       0.000000          b'1'   \n",
       "\n",
       "   comp_interno3  comp_interno4  categoria1  categoria2  categoria3  \\\n",
       "0           30.0           50.0         2.0         9.0       175.0   \n",
       "1           19.0           48.0         3.0         3.0       164.0   \n",
       "2           19.0           53.0         4.0         3.0       164.0   \n",
       "3            9.0           70.0         3.0         9.0       154.0   \n",
       "4            3.0           75.0         3.0         9.0       148.0   \n",
       "\n",
       "   inversion      mes_informacion  Tiempo_aparicion  comportamiento_j  \n",
       "0        NaN  2021-05-01 00:00:00              52.0               0.0  \n",
       "1        NaN  2021-05-01 00:00:00              64.0               0.0  \n",
       "2        NaN  2021-05-01 00:00:00              64.0               0.0  \n",
       "3        NaN  2021-05-01 00:00:00              58.0               0.0  \n",
       "4   0.311552  2018-10-01 00:00:00              33.0               0.0  "
      ]
     },
     "execution_count": 59,
     "metadata": {},
     "output_type": "execute_result"
    }
   ],
   "source": [
    "bd_final.head()"
   ]
  },
  {
   "cell_type": "code",
   "execution_count": 57,
   "metadata": {},
   "outputs": [
    {
     "name": "stdout",
     "output_type": "stream",
     "text": [
      "<class 'pandas.core.frame.DataFrame'>\n",
      "Int64Index: 50000 entries, 0 to 49999\n",
      "Data columns (total 15 columns):\n",
      " #   Column            Non-Null Count  Dtype  \n",
      "---  ------            --------------  -----  \n",
      " 0   _id_              50000 non-null  int64  \n",
      " 1   _id2_             50000 non-null  int64  \n",
      " 2   comp_mixto1       50000 non-null  float64\n",
      " 3   fecha_inicio      50000 non-null  object \n",
      " 4   comp_interno1     50000 non-null  float64\n",
      " 5   comp_interno2     50000 non-null  object \n",
      " 6   comp_interno3     50000 non-null  float64\n",
      " 7   comp_interno4     50000 non-null  float64\n",
      " 8   categoria1        50000 non-null  float64\n",
      " 9   categoria2        50000 non-null  float64\n",
      " 10  categoria3        50000 non-null  float64\n",
      " 11  inversion         17536 non-null  float64\n",
      " 12  mes_informacion   49352 non-null  object \n",
      " 13  Tiempo_aparicion  49352 non-null  float64\n",
      " 14  comportamiento_j  49352 non-null  float64\n",
      "dtypes: float64(10), int64(2), object(3)\n",
      "memory usage: 6.1+ MB\n"
     ]
    }
   ],
   "source": [
    "bd_final.info()"
   ]
  },
  {
   "cell_type": "code",
   "execution_count": 58,
   "metadata": {},
   "outputs": [
    {
     "data": {
      "text/plain": [
       "_id_                50000\n",
       "_id2_               50000\n",
       "comp_mixto1          7098\n",
       "fecha_inicio         1557\n",
       "comp_interno1         680\n",
       "comp_interno2           2\n",
       "comp_interno3          32\n",
       "comp_interno4          55\n",
       "categoria1              6\n",
       "categoria2             13\n",
       "categoria3             32\n",
       "inversion           17385\n",
       "mes_informacion        62\n",
       "Tiempo_aparicion       65\n",
       "comportamiento_j       15\n",
       "dtype: int64"
      ]
     },
     "execution_count": 58,
     "metadata": {},
     "output_type": "execute_result"
    }
   ],
   "source": [
    "bd_final.nunique()"
   ]
  },
  {
   "cell_type": "markdown",
   "metadata": {},
   "source": [
    "_De esta manera, nuestra base final es bd_final_"
   ]
  },
  {
   "cell_type": "code",
   "execution_count": 60,
   "metadata": {},
   "outputs": [
    {
     "data": {
      "text/html": [
       "<div>\n",
       "<style scoped>\n",
       "    .dataframe tbody tr th:only-of-type {\n",
       "        vertical-align: middle;\n",
       "    }\n",
       "\n",
       "    .dataframe tbody tr th {\n",
       "        vertical-align: top;\n",
       "    }\n",
       "\n",
       "    .dataframe thead th {\n",
       "        text-align: right;\n",
       "    }\n",
       "</style>\n",
       "<table border=\"1\" class=\"dataframe\">\n",
       "  <thead>\n",
       "    <tr style=\"text-align: right;\">\n",
       "      <th></th>\n",
       "      <th>_id_</th>\n",
       "      <th>_id2_</th>\n",
       "      <th>comp_mixto1</th>\n",
       "      <th>fecha_inicio</th>\n",
       "      <th>comp_interno1</th>\n",
       "      <th>comp_interno2</th>\n",
       "      <th>comp_interno3</th>\n",
       "      <th>comp_interno4</th>\n",
       "      <th>categoria1</th>\n",
       "      <th>categoria2</th>\n",
       "      <th>categoria3</th>\n",
       "      <th>inversion</th>\n",
       "      <th>mes_informacion</th>\n",
       "      <th>Tiempo_aparicion</th>\n",
       "      <th>comportamiento_j</th>\n",
       "    </tr>\n",
       "  </thead>\n",
       "  <tbody>\n",
       "    <tr>\n",
       "      <th>0</th>\n",
       "      <td>2333</td>\n",
       "      <td>53659</td>\n",
       "      <td>0.32856</td>\n",
       "      <td>2016-01-04</td>\n",
       "      <td>6079.027356</td>\n",
       "      <td>b'1'</td>\n",
       "      <td>30.0</td>\n",
       "      <td>50.0</td>\n",
       "      <td>2.0</td>\n",
       "      <td>9.0</td>\n",
       "      <td>175.0</td>\n",
       "      <td>NaN</td>\n",
       "      <td>2021-05-01 00:00:00</td>\n",
       "      <td>52.0</td>\n",
       "      <td>0.0</td>\n",
       "    </tr>\n",
       "    <tr>\n",
       "      <th>1</th>\n",
       "      <td>488</td>\n",
       "      <td>11224</td>\n",
       "      <td>0.38498</td>\n",
       "      <td>2016-01-04</td>\n",
       "      <td>911.854103</td>\n",
       "      <td>b'0'</td>\n",
       "      <td>19.0</td>\n",
       "      <td>48.0</td>\n",
       "      <td>3.0</td>\n",
       "      <td>3.0</td>\n",
       "      <td>164.0</td>\n",
       "      <td>NaN</td>\n",
       "      <td>2021-05-01 00:00:00</td>\n",
       "      <td>64.0</td>\n",
       "      <td>0.0</td>\n",
       "    </tr>\n",
       "    <tr>\n",
       "      <th>2</th>\n",
       "      <td>1964</td>\n",
       "      <td>45172</td>\n",
       "      <td>0.34780</td>\n",
       "      <td>2016-01-04</td>\n",
       "      <td>0.000000</td>\n",
       "      <td>b'1'</td>\n",
       "      <td>19.0</td>\n",
       "      <td>53.0</td>\n",
       "      <td>4.0</td>\n",
       "      <td>3.0</td>\n",
       "      <td>164.0</td>\n",
       "      <td>NaN</td>\n",
       "      <td>2021-05-01 00:00:00</td>\n",
       "      <td>64.0</td>\n",
       "      <td>0.0</td>\n",
       "    </tr>\n",
       "    <tr>\n",
       "      <th>3</th>\n",
       "      <td>1220</td>\n",
       "      <td>28060</td>\n",
       "      <td>0.28422</td>\n",
       "      <td>2016-01-04</td>\n",
       "      <td>2482.269504</td>\n",
       "      <td>b'0'</td>\n",
       "      <td>9.0</td>\n",
       "      <td>70.0</td>\n",
       "      <td>3.0</td>\n",
       "      <td>9.0</td>\n",
       "      <td>154.0</td>\n",
       "      <td>NaN</td>\n",
       "      <td>2021-05-01 00:00:00</td>\n",
       "      <td>58.0</td>\n",
       "      <td>0.0</td>\n",
       "    </tr>\n",
       "    <tr>\n",
       "      <th>4</th>\n",
       "      <td>1226</td>\n",
       "      <td>28198</td>\n",
       "      <td>0.31500</td>\n",
       "      <td>2016-01-04</td>\n",
       "      <td>0.000000</td>\n",
       "      <td>b'1'</td>\n",
       "      <td>3.0</td>\n",
       "      <td>75.0</td>\n",
       "      <td>3.0</td>\n",
       "      <td>9.0</td>\n",
       "      <td>148.0</td>\n",
       "      <td>0.311552</td>\n",
       "      <td>2018-10-01 00:00:00</td>\n",
       "      <td>33.0</td>\n",
       "      <td>0.0</td>\n",
       "    </tr>\n",
       "    <tr>\n",
       "      <th>5</th>\n",
       "      <td>1278</td>\n",
       "      <td>29394</td>\n",
       "      <td>0.36858</td>\n",
       "      <td>2016-01-04</td>\n",
       "      <td>0.000000</td>\n",
       "      <td>b'1'</td>\n",
       "      <td>19.0</td>\n",
       "      <td>45.0</td>\n",
       "      <td>3.0</td>\n",
       "      <td>9.0</td>\n",
       "      <td>164.0</td>\n",
       "      <td>NaN</td>\n",
       "      <td>2018-08-01 00:00:00</td>\n",
       "      <td>31.0</td>\n",
       "      <td>0.0</td>\n",
       "    </tr>\n",
       "    <tr>\n",
       "      <th>6</th>\n",
       "      <td>899</td>\n",
       "      <td>20677</td>\n",
       "      <td>0.26702</td>\n",
       "      <td>2016-01-04</td>\n",
       "      <td>0.000000</td>\n",
       "      <td>b'1'</td>\n",
       "      <td>1.0</td>\n",
       "      <td>60.0</td>\n",
       "      <td>1.0</td>\n",
       "      <td>9.0</td>\n",
       "      <td>146.0</td>\n",
       "      <td>NaN</td>\n",
       "      <td>2021-05-01 00:00:00</td>\n",
       "      <td>63.0</td>\n",
       "      <td>0.0</td>\n",
       "    </tr>\n",
       "    <tr>\n",
       "      <th>7</th>\n",
       "      <td>2235</td>\n",
       "      <td>51405</td>\n",
       "      <td>0.38000</td>\n",
       "      <td>2016-01-04</td>\n",
       "      <td>0.000000</td>\n",
       "      <td>b'0'</td>\n",
       "      <td>15.0</td>\n",
       "      <td>73.0</td>\n",
       "      <td>1.0</td>\n",
       "      <td>11.0</td>\n",
       "      <td>160.0</td>\n",
       "      <td>NaN</td>\n",
       "      <td>2020-12-01 00:00:00</td>\n",
       "      <td>58.0</td>\n",
       "      <td>1.0</td>\n",
       "    </tr>\n",
       "    <tr>\n",
       "      <th>8</th>\n",
       "      <td>786</td>\n",
       "      <td>18078</td>\n",
       "      <td>0.35078</td>\n",
       "      <td>2016-01-04</td>\n",
       "      <td>0.000000</td>\n",
       "      <td>b'0'</td>\n",
       "      <td>23.0</td>\n",
       "      <td>68.0</td>\n",
       "      <td>3.0</td>\n",
       "      <td>9.0</td>\n",
       "      <td>168.0</td>\n",
       "      <td>NaN</td>\n",
       "      <td>2018-02-01 00:00:00</td>\n",
       "      <td>24.0</td>\n",
       "      <td>0.0</td>\n",
       "    </tr>\n",
       "    <tr>\n",
       "      <th>9</th>\n",
       "      <td>2113</td>\n",
       "      <td>48599</td>\n",
       "      <td>0.37506</td>\n",
       "      <td>2016-01-04</td>\n",
       "      <td>0.000000</td>\n",
       "      <td>b'1'</td>\n",
       "      <td>19.0</td>\n",
       "      <td>44.0</td>\n",
       "      <td>3.0</td>\n",
       "      <td>9.0</td>\n",
       "      <td>164.0</td>\n",
       "      <td>NaN</td>\n",
       "      <td>2021-05-01 00:00:00</td>\n",
       "      <td>64.0</td>\n",
       "      <td>1.0</td>\n",
       "    </tr>\n",
       "    <tr>\n",
       "      <th>10</th>\n",
       "      <td>2410</td>\n",
       "      <td>55430</td>\n",
       "      <td>0.32920</td>\n",
       "      <td>2016-01-04</td>\n",
       "      <td>0.000000</td>\n",
       "      <td>b'0'</td>\n",
       "      <td>15.0</td>\n",
       "      <td>72.0</td>\n",
       "      <td>1.0</td>\n",
       "      <td>5.0</td>\n",
       "      <td>160.0</td>\n",
       "      <td>NaN</td>\n",
       "      <td>2021-05-01 00:00:00</td>\n",
       "      <td>63.0</td>\n",
       "      <td>0.0</td>\n",
       "    </tr>\n",
       "    <tr>\n",
       "      <th>11</th>\n",
       "      <td>277</td>\n",
       "      <td>6371</td>\n",
       "      <td>0.35336</td>\n",
       "      <td>2016-01-04</td>\n",
       "      <td>658.561297</td>\n",
       "      <td>b'1'</td>\n",
       "      <td>19.0</td>\n",
       "      <td>57.0</td>\n",
       "      <td>2.0</td>\n",
       "      <td>9.0</td>\n",
       "      <td>164.0</td>\n",
       "      <td>NaN</td>\n",
       "      <td>2019-07-01 00:00:00</td>\n",
       "      <td>42.0</td>\n",
       "      <td>0.0</td>\n",
       "    </tr>\n",
       "    <tr>\n",
       "      <th>12</th>\n",
       "      <td>2383</td>\n",
       "      <td>54809</td>\n",
       "      <td>0.37110</td>\n",
       "      <td>2016-01-04</td>\n",
       "      <td>2026.342452</td>\n",
       "      <td>b'1'</td>\n",
       "      <td>15.0</td>\n",
       "      <td>59.0</td>\n",
       "      <td>1.0</td>\n",
       "      <td>9.0</td>\n",
       "      <td>160.0</td>\n",
       "      <td>NaN</td>\n",
       "      <td>2018-02-01 00:00:00</td>\n",
       "      <td>24.0</td>\n",
       "      <td>0.0</td>\n",
       "    </tr>\n",
       "    <tr>\n",
       "      <th>13</th>\n",
       "      <td>1468</td>\n",
       "      <td>33764</td>\n",
       "      <td>0.34000</td>\n",
       "      <td>2016-01-04</td>\n",
       "      <td>0.000000</td>\n",
       "      <td>b'1'</td>\n",
       "      <td>19.0</td>\n",
       "      <td>72.0</td>\n",
       "      <td>2.0</td>\n",
       "      <td>11.0</td>\n",
       "      <td>164.0</td>\n",
       "      <td>224.023991</td>\n",
       "      <td>2021-05-01 00:00:00</td>\n",
       "      <td>64.0</td>\n",
       "      <td>0.0</td>\n",
       "    </tr>\n",
       "    <tr>\n",
       "      <th>14</th>\n",
       "      <td>924</td>\n",
       "      <td>21252</td>\n",
       "      <td>0.38000</td>\n",
       "      <td>2016-01-04</td>\n",
       "      <td>1519.756839</td>\n",
       "      <td>b'1'</td>\n",
       "      <td>1.0</td>\n",
       "      <td>53.0</td>\n",
       "      <td>2.0</td>\n",
       "      <td>9.0</td>\n",
       "      <td>146.0</td>\n",
       "      <td>NaN</td>\n",
       "      <td>2021-05-01 00:00:00</td>\n",
       "      <td>64.0</td>\n",
       "      <td>0.0</td>\n",
       "    </tr>\n",
       "    <tr>\n",
       "      <th>15</th>\n",
       "      <td>64</td>\n",
       "      <td>1472</td>\n",
       "      <td>0.38000</td>\n",
       "      <td>2016-01-05</td>\n",
       "      <td>709.219858</td>\n",
       "      <td>b'1'</td>\n",
       "      <td>19.0</td>\n",
       "      <td>60.0</td>\n",
       "      <td>1.0</td>\n",
       "      <td>9.0</td>\n",
       "      <td>164.0</td>\n",
       "      <td>NaN</td>\n",
       "      <td>2021-05-01 00:00:00</td>\n",
       "      <td>64.0</td>\n",
       "      <td>0.0</td>\n",
       "    </tr>\n",
       "    <tr>\n",
       "      <th>16</th>\n",
       "      <td>1152</td>\n",
       "      <td>26496</td>\n",
       "      <td>0.33548</td>\n",
       "      <td>2016-01-05</td>\n",
       "      <td>0.000000</td>\n",
       "      <td>b'1'</td>\n",
       "      <td>14.0</td>\n",
       "      <td>46.0</td>\n",
       "      <td>3.0</td>\n",
       "      <td>9.0</td>\n",
       "      <td>159.0</td>\n",
       "      <td>NaN</td>\n",
       "      <td>2021-05-01 00:00:00</td>\n",
       "      <td>64.0</td>\n",
       "      <td>0.0</td>\n",
       "    </tr>\n",
       "    <tr>\n",
       "      <th>17</th>\n",
       "      <td>2421</td>\n",
       "      <td>55683</td>\n",
       "      <td>0.37000</td>\n",
       "      <td>2016-01-05</td>\n",
       "      <td>1114.488349</td>\n",
       "      <td>b'1'</td>\n",
       "      <td>17.0</td>\n",
       "      <td>52.0</td>\n",
       "      <td>1.0</td>\n",
       "      <td>9.0</td>\n",
       "      <td>162.0</td>\n",
       "      <td>20.244026</td>\n",
       "      <td>2021-05-01 00:00:00</td>\n",
       "      <td>63.0</td>\n",
       "      <td>1.0</td>\n",
       "    </tr>\n",
       "    <tr>\n",
       "      <th>18</th>\n",
       "      <td>1816</td>\n",
       "      <td>41768</td>\n",
       "      <td>0.37000</td>\n",
       "      <td>2016-01-05</td>\n",
       "      <td>3039.513678</td>\n",
       "      <td>b'1'</td>\n",
       "      <td>24.0</td>\n",
       "      <td>65.0</td>\n",
       "      <td>1.0</td>\n",
       "      <td>6.0</td>\n",
       "      <td>169.0</td>\n",
       "      <td>NaN</td>\n",
       "      <td>2021-05-01 00:00:00</td>\n",
       "      <td>64.0</td>\n",
       "      <td>0.0</td>\n",
       "    </tr>\n",
       "    <tr>\n",
       "      <th>19</th>\n",
       "      <td>1935</td>\n",
       "      <td>44505</td>\n",
       "      <td>0.29150</td>\n",
       "      <td>2016-01-05</td>\n",
       "      <td>1013.171226</td>\n",
       "      <td>b'0'</td>\n",
       "      <td>21.0</td>\n",
       "      <td>69.0</td>\n",
       "      <td>1.0</td>\n",
       "      <td>9.0</td>\n",
       "      <td>166.0</td>\n",
       "      <td>NaN</td>\n",
       "      <td>2021-05-01 00:00:00</td>\n",
       "      <td>64.0</td>\n",
       "      <td>0.0</td>\n",
       "    </tr>\n",
       "  </tbody>\n",
       "</table>\n",
       "</div>"
      ],
      "text/plain": [
       "    _id_  _id2_  comp_mixto1 fecha_inicio  comp_interno1 comp_interno2  \\\n",
       "0   2333  53659      0.32856   2016-01-04    6079.027356          b'1'   \n",
       "1    488  11224      0.38498   2016-01-04     911.854103          b'0'   \n",
       "2   1964  45172      0.34780   2016-01-04       0.000000          b'1'   \n",
       "3   1220  28060      0.28422   2016-01-04    2482.269504          b'0'   \n",
       "4   1226  28198      0.31500   2016-01-04       0.000000          b'1'   \n",
       "5   1278  29394      0.36858   2016-01-04       0.000000          b'1'   \n",
       "6    899  20677      0.26702   2016-01-04       0.000000          b'1'   \n",
       "7   2235  51405      0.38000   2016-01-04       0.000000          b'0'   \n",
       "8    786  18078      0.35078   2016-01-04       0.000000          b'0'   \n",
       "9   2113  48599      0.37506   2016-01-04       0.000000          b'1'   \n",
       "10  2410  55430      0.32920   2016-01-04       0.000000          b'0'   \n",
       "11   277   6371      0.35336   2016-01-04     658.561297          b'1'   \n",
       "12  2383  54809      0.37110   2016-01-04    2026.342452          b'1'   \n",
       "13  1468  33764      0.34000   2016-01-04       0.000000          b'1'   \n",
       "14   924  21252      0.38000   2016-01-04    1519.756839          b'1'   \n",
       "15    64   1472      0.38000   2016-01-05     709.219858          b'1'   \n",
       "16  1152  26496      0.33548   2016-01-05       0.000000          b'1'   \n",
       "17  2421  55683      0.37000   2016-01-05    1114.488349          b'1'   \n",
       "18  1816  41768      0.37000   2016-01-05    3039.513678          b'1'   \n",
       "19  1935  44505      0.29150   2016-01-05    1013.171226          b'0'   \n",
       "\n",
       "    comp_interno3  comp_interno4  categoria1  categoria2  categoria3  \\\n",
       "0            30.0           50.0         2.0         9.0       175.0   \n",
       "1            19.0           48.0         3.0         3.0       164.0   \n",
       "2            19.0           53.0         4.0         3.0       164.0   \n",
       "3             9.0           70.0         3.0         9.0       154.0   \n",
       "4             3.0           75.0         3.0         9.0       148.0   \n",
       "5            19.0           45.0         3.0         9.0       164.0   \n",
       "6             1.0           60.0         1.0         9.0       146.0   \n",
       "7            15.0           73.0         1.0        11.0       160.0   \n",
       "8            23.0           68.0         3.0         9.0       168.0   \n",
       "9            19.0           44.0         3.0         9.0       164.0   \n",
       "10           15.0           72.0         1.0         5.0       160.0   \n",
       "11           19.0           57.0         2.0         9.0       164.0   \n",
       "12           15.0           59.0         1.0         9.0       160.0   \n",
       "13           19.0           72.0         2.0        11.0       164.0   \n",
       "14            1.0           53.0         2.0         9.0       146.0   \n",
       "15           19.0           60.0         1.0         9.0       164.0   \n",
       "16           14.0           46.0         3.0         9.0       159.0   \n",
       "17           17.0           52.0         1.0         9.0       162.0   \n",
       "18           24.0           65.0         1.0         6.0       169.0   \n",
       "19           21.0           69.0         1.0         9.0       166.0   \n",
       "\n",
       "     inversion      mes_informacion  Tiempo_aparicion  comportamiento_j  \n",
       "0          NaN  2021-05-01 00:00:00              52.0               0.0  \n",
       "1          NaN  2021-05-01 00:00:00              64.0               0.0  \n",
       "2          NaN  2021-05-01 00:00:00              64.0               0.0  \n",
       "3          NaN  2021-05-01 00:00:00              58.0               0.0  \n",
       "4     0.311552  2018-10-01 00:00:00              33.0               0.0  \n",
       "5          NaN  2018-08-01 00:00:00              31.0               0.0  \n",
       "6          NaN  2021-05-01 00:00:00              63.0               0.0  \n",
       "7          NaN  2020-12-01 00:00:00              58.0               1.0  \n",
       "8          NaN  2018-02-01 00:00:00              24.0               0.0  \n",
       "9          NaN  2021-05-01 00:00:00              64.0               1.0  \n",
       "10         NaN  2021-05-01 00:00:00              63.0               0.0  \n",
       "11         NaN  2019-07-01 00:00:00              42.0               0.0  \n",
       "12         NaN  2018-02-01 00:00:00              24.0               0.0  \n",
       "13  224.023991  2021-05-01 00:00:00              64.0               0.0  \n",
       "14         NaN  2021-05-01 00:00:00              64.0               0.0  \n",
       "15         NaN  2021-05-01 00:00:00              64.0               0.0  \n",
       "16         NaN  2021-05-01 00:00:00              64.0               0.0  \n",
       "17   20.244026  2021-05-01 00:00:00              63.0               1.0  \n",
       "18         NaN  2021-05-01 00:00:00              64.0               0.0  \n",
       "19         NaN  2021-05-01 00:00:00              64.0               0.0  "
      ]
     },
     "execution_count": 60,
     "metadata": {},
     "output_type": "execute_result"
    }
   ],
   "source": [
    "bd_final.head(20)"
   ]
  },
  {
   "cell_type": "markdown",
   "metadata": {},
   "source": [
    "# Pregunta 2"
   ]
  },
  {
   "cell_type": "code",
   "execution_count": null,
   "metadata": {},
   "outputs": [],
   "source": [
    "bd=\"data_schools.xlsx\"\n",
    "bd_escuelas=pd.read_excel(bd)\n",
    "bd_escuelas #Vemos si cargó"
   ]
  },
  {
   "cell_type": "markdown",
   "metadata": {},
   "source": [
    "## Para n"
   ]
  },
  {
   "cell_type": "code",
   "execution_count": null,
   "metadata": {},
   "outputs": [],
   "source": [
    "#Seleccionamos aleatoriamente n escuelas\n",
    "cor=np.zeros(3200)\n",
    "for  i in range(0,3200):\n",
    "    escuelas_random=bd_escuelas.sample(n=15,replace=True)\n",
    "    cor[i]= spearmanr(escuelas_random.LSAT, escuelas_random.GPA)[0]\n",
    "print(cor)"
   ]
  },
  {
   "cell_type": "code",
   "execution_count": null,
   "metadata": {},
   "outputs": [],
   "source": [
    "#El error estándar bootstrap es:\n",
    "err_bt=np.std(cor)\n",
    "err_bt"
   ]
  },
  {
   "cell_type": "code",
   "execution_count": null,
   "metadata": {},
   "outputs": [],
   "source": [
    "#La correlación sin bootstrap es:\n",
    "cor_data = spearmanr(bd_escuelas.LSAT, bd_escuelas.GPA)[0]\n",
    "cor_data"
   ]
  },
  {
   "cell_type": "code",
   "execution_count": null,
   "metadata": {},
   "outputs": [],
   "source": [
    "#Hacemos el gráfico \n",
    "fig, ax = plt.subplots(figsize=(9,6))\n",
    "hist(cor,bins=50,alpha=0.5,edgecolor=\"white\",label=\"Error estándar Boostrap\")\n",
    "axvline(x=cor_data,color='green', linestyle='--',linewidth=3,label=\"Correlación sin bootstrap$\")\n",
    "axvline(x=np.mean(cor),color='black', linestyle='--',linewidth=3,label=\"Promedio de correlación con  Boostrap$\")\n",
    "\n",
    "axvline(percentile(cor,2.5),color=\"blue\",linestyle=\"--\",linewidth=2)                                                                                                                                                    \n",
    "axvline(percentile(cor,97.5),color=\"blue\",linestyle=\"--\",linewidth=2) \n",
    "show()\n",
    "print(\"Correlación sin Bootsrap:\", cor_data)\n",
    "print(\"Promedio de correlación de la muestras Bootstrap:\", np.mean(cor))\n",
    "print(\"Error estándar las muestras Bootstrap:\", err_bt)\n",
    "print(\"(\", percentile(cor,2.5),\",\",percentile(cor,97.5),\")\")"
   ]
  },
  {
   "cell_type": "code",
   "execution_count": null,
   "metadata": {},
   "outputs": [],
   "source": [
    "#Podemos notar que conforme el número de simulaciones Boostrap aumenta, el error estándar\n",
    "#baja.\n",
    "estimadores_se_bt=np.zeros(3200)\n",
    "for i in range(len(cor)):\n",
    "    estimadores_se_bt[i]=np.std(cor[0:(i+1)])\n",
    "estimadores_se_bt"
   ]
  },
  {
   "cell_type": "code",
   "execution_count": null,
   "metadata": {},
   "outputs": [],
   "source": [
    "min_1=min(estimadores_se_bt[1:])\n",
    "min_1"
   ]
  },
  {
   "cell_type": "code",
   "execution_count": null,
   "metadata": {},
   "outputs": [],
   "source": [
    "index_1=(np.asarray(estimadores_se_bt==min_1).nonzero())[0][0]\n",
    "index_1"
   ]
  },
  {
   "cell_type": "code",
   "execution_count": null,
   "metadata": {},
   "outputs": [],
   "source": [
    "estimadores_se_bt[index_1]"
   ]
  },
  {
   "cell_type": "markdown",
   "metadata": {},
   "source": [
    "Acorde a esto, 1902 simulaciones boostrap minimiza el error estándar. Ya que el índice i es hasta i+1 iteraciones boostrap"
   ]
  },
  {
   "cell_type": "markdown",
   "metadata": {},
   "source": [
    "## Para n-1"
   ]
  },
  {
   "cell_type": "code",
   "execution_count": null,
   "metadata": {},
   "outputs": [],
   "source": [
    "#Seleccionamos aleatoriamente n-1 escuelas\n",
    "cor_2=np.zeros(3200)\n",
    "for  i in range(0,3200):\n",
    "    escuelas_random=bd_escuelas.sample(n=15,replace=True)\n",
    "    escuelas_random=escuelas_random.sample(n=14,replace=True)\n",
    "    cor_2[i]= spearmanr(escuelas_random.LSAT, escuelas_random.GPA)[0]\n",
    "print(cor_2)"
   ]
  },
  {
   "cell_type": "code",
   "execution_count": null,
   "metadata": {},
   "outputs": [],
   "source": [
    "#El error estándar bootstrap es:\n",
    "err_bt_2=np.std(cor_2)\n",
    "err_bt_2"
   ]
  },
  {
   "cell_type": "code",
   "execution_count": null,
   "metadata": {},
   "outputs": [],
   "source": [
    "#La correlación sin bootstrap es:\n",
    "cor_data = spearmanr(bd_escuelas.LSAT, bd_escuelas.GPA)[0]\n",
    "cor_data"
   ]
  },
  {
   "cell_type": "code",
   "execution_count": null,
   "metadata": {},
   "outputs": [],
   "source": [
    "#Hacemos el gráfico \n",
    "fig, ax = plt.subplots(figsize=(9,6))\n",
    "hist(cor_2,bins=50,alpha=0.5,edgecolor=\"white\",label=\"Error estándar Boostrap\")\n",
    "axvline(x=cor_data,color='green', linestyle='--',linewidth=3,label=\"Correlación sin bootstrap$\")\n",
    "axvline(x=np.mean(cor_2),color='black', linestyle='--',linewidth=3,label=\"Promedio de correlación con  Boostrap$\")\n",
    "\n",
    "axvline(percentile(cor_2,2.5),color=\"blue\",linestyle=\"--\",linewidth=2)                                                                                                                                                    \n",
    "axvline(percentile(cor_2,97.5),color=\"blue\",linestyle=\"--\",linewidth=2) \n",
    "show()\n",
    "print(\"Correlación sin Bootsrap:\", cor_data)\n",
    "print(\"Promedio de correlación de la muestras Bootstrap:\", np.mean(cor_2))\n",
    "print(\"Error estándar las muestras Bootstrap:\", err_bt_2)\n",
    "print(\"(\", percentile(cor_2,2.5),\",\",percentile(cor_2,97.5),\")\")"
   ]
  },
  {
   "cell_type": "code",
   "execution_count": null,
   "metadata": {},
   "outputs": [],
   "source": [
    "#Podemos notar que conforme el número de simulaciones Boostrap aumenta, el error estándar\n",
    "#baja.\n",
    "estimadores_se_bt2=np.zeros(3200)\n",
    "for i in range(len(cor_2)):\n",
    "    estimadores_se_bt2[i]=np.std(cor_2[0:(i+1)])\n",
    "estimadores_se_bt2"
   ]
  },
  {
   "cell_type": "code",
   "execution_count": null,
   "metadata": {},
   "outputs": [],
   "source": [
    "min_2=min(estimadores_se_bt2[10:])\n",
    "min_2"
   ]
  },
  {
   "cell_type": "code",
   "execution_count": null,
   "metadata": {},
   "outputs": [],
   "source": [
    "index_2=(np.asarray(estimadores_se_bt2==min_2).nonzero())[0][0]\n",
    "index_2"
   ]
  },
  {
   "cell_type": "code",
   "execution_count": null,
   "metadata": {},
   "outputs": [],
   "source": [
    "estimadores_se_bt2[index_2]"
   ]
  },
  {
   "cell_type": "markdown",
   "metadata": {},
   "source": [
    "Acorde a esto, 1624 simulaciones boostrap minimiza el error estándar. Ya que el índice i es hasta i+1 iteraciones boostrap"
   ]
  },
  {
   "cell_type": "markdown",
   "metadata": {},
   "source": [
    "## Para toda la muestra"
   ]
  },
  {
   "cell_type": "code",
   "execution_count": null,
   "metadata": {},
   "outputs": [],
   "source": [
    "#Seleccionamos aleatoriamente n=82, que es el tamaño de la muestra, escuelas\n",
    "cor_3=np.zeros(3200)\n",
    "for  i in range(0,3200):\n",
    "    escuelas_random=bd_escuelas.sample(n=82,replace=True)\n",
    "    cor_3[i]= spearmanr(escuelas_random.LSAT, escuelas_random.GPA)[0]\n",
    "print(cor_3)"
   ]
  },
  {
   "cell_type": "code",
   "execution_count": null,
   "metadata": {},
   "outputs": [],
   "source": [
    "#El error estándar bootstrap es:\n",
    "err_bt_3=np.std(cor_3)\n",
    "err_bt_3"
   ]
  },
  {
   "cell_type": "code",
   "execution_count": null,
   "metadata": {},
   "outputs": [],
   "source": [
    "#La correlación sin bootstrap es:\n",
    "cor_data = spearmanr(bd_escuelas.LSAT, bd_escuelas.GPA)[0]\n",
    "cor_data"
   ]
  },
  {
   "cell_type": "code",
   "execution_count": null,
   "metadata": {},
   "outputs": [],
   "source": [
    "#Hacemos el gráfico \n",
    "fig, ax = plt.subplots(figsize=(9,6))\n",
    "hist(cor_3,bins=50,alpha=0.5,edgecolor=\"white\",label=\"Error estándar Boostrap\")\n",
    "axvline(x=cor_data,color='green', linestyle='--',linewidth=3,label=\"Correlación sin bootstrap$\")\n",
    "axvline(x=np.mean(cor_3),color='black', linestyle='--',linewidth=3,label=\"Promedio de correlación con  Boostrap$\")\n",
    "\n",
    "axvline(percentile(cor_3,2.5),color=\"blue\",linestyle=\"--\",linewidth=2)                                                                                                                                                    \n",
    "axvline(percentile(cor_3,97.5),color=\"blue\",linestyle=\"--\",linewidth=2) \n",
    "show()\n",
    "print(\"Correlación sin Bootsrap:\", cor_data)\n",
    "print(\"Promedio de correlación de la muestras Bootstrap:\", np.mean(cor_3))\n",
    "print(\"Error estándar las muestras Bootstrap:\", err_bt_3)\n",
    "print(\"(\", percentile(cor_3,2.5),\",\",percentile(cor_3,97.5),\")\")"
   ]
  },
  {
   "cell_type": "code",
   "execution_count": null,
   "metadata": {},
   "outputs": [],
   "source": [
    "#Podemos notar que conforme el número de simulaciones Boostrap aumenta, el error estándar\n",
    "#baja.\n",
    "estimadores_se_bt3=np.zeros(3200)\n",
    "for i in range(len(cor_3)):\n",
    "    estimadores_se_bt3[i]=np.std(cor_3[0:(i+1)])\n",
    "estimadores_se_bt3"
   ]
  },
  {
   "cell_type": "code",
   "execution_count": null,
   "metadata": {},
   "outputs": [],
   "source": [
    "min_3=min(estimadores_se_bt3[20:])\n",
    "min_3"
   ]
  },
  {
   "cell_type": "code",
   "execution_count": null,
   "metadata": {},
   "outputs": [],
   "source": [
    "index_3=(np.asarray(estimadores_se_bt3==min_3).nonzero())[0][0]\n",
    "index_3"
   ]
  },
  {
   "cell_type": "code",
   "execution_count": null,
   "metadata": {},
   "outputs": [],
   "source": [
    "estimadores_se_bt3[index_3]"
   ]
  },
  {
   "cell_type": "markdown",
   "metadata": {},
   "source": [
    "Acorde a esto, 79 simulaciones boostrap minimiza el error estándar. Ya que el índice i es hasta i+1 iteraciones boostrap"
   ]
  },
  {
   "cell_type": "markdown",
   "metadata": {},
   "source": [
    "# Pregunta 3"
   ]
  },
  {
   "cell_type": "code",
   "execution_count": null,
   "metadata": {},
   "outputs": [],
   "source": [
    "bd2=\"lineal_horm.xlsx\"\n",
    "bd_horm=pd.read_excel(bd2)\n",
    "bd_horm"
   ]
  },
  {
   "cell_type": "code",
   "execution_count": null,
   "metadata": {},
   "outputs": [],
   "source": [
    "reg = linear_model.LinearRegression()"
   ]
  },
  {
   "cell_type": "code",
   "execution_count": null,
   "metadata": {},
   "outputs": [],
   "source": [
    "X = bd_horm[[\"horas\"]]\n",
    "y = bd_horm[[\"monto\"]]\n",
    "reg.fit(X,y)\n",
    "Y_pred = reg.predict(X)\n",
    "y_estim=Y_pred.reshape(-1)\n",
    "x=X.to_numpy().reshape(-1)\n",
    "y_real=y.to_numpy()\n",
    "y_real=y_real.reshape(-1)\n",
    "n=len(y_real)\n",
    "residual=y_real-y_estim\n",
    "den=sum((x-np.mean(x))**2)\n",
    "num=sum(residual**2)/(n)\n",
    "err_reg_completa=np.sqrt(num/den)\n",
    "err_reg_completa"
   ]
  },
  {
   "cell_type": "code",
   "execution_count": null,
   "metadata": {},
   "outputs": [],
   "source": [
    "#Seleccionamos aleatoriamente n=15 muestras\n",
    "sims=3200\n",
    "errores=np.zeros(sims)\n",
    "for  i in range(0,sims):\n",
    "    horm_random=bd_horm.sample(n=15,replace=True)\n",
    "    X = horm_random[[\"horas\"]]\n",
    "    y = horm_random[[\"monto\"]]\n",
    "    reg.fit(X, y)\n",
    "    Y_pred = reg.predict(X)\n",
    "    y_estim=Y_pred.reshape(-1)\n",
    "    x=X.to_numpy().reshape(-1)\n",
    "    y_real=y.to_numpy()\n",
    "    y_real=y_real.reshape(-1)\n",
    "    n=len(y_real)\n",
    "    residual=y_real-y_estim\n",
    "    den=sum((x-np.mean(x))**2)\n",
    "    num=sum(residual**2)/(n)\n",
    "    err_reg=np.sqrt(num/den)\n",
    "    errores[i]=err_reg\n",
    "print(errores)"
   ]
  },
  {
   "cell_type": "code",
   "execution_count": null,
   "metadata": {},
   "outputs": [],
   "source": [
    "fig, ax = plt.subplots(figsize=(9,6))\n",
    "hist(errores,bins=50,alpha=0.5,edgecolor=\"white\",label=\"Error estándar Boostrap\")\n",
    "axvline(x=err_reg_completa,color='green', linestyle='--',linewidth=3,label=\"Error Estándar de b_1 con regresión$\")\n",
    "axvline(x=np.mean(errores),color='black', linestyle='--',linewidth=3,label=\"Promedio error estándar de b_1 con  Boostrap$\")\n",
    "\n",
    "axvline(percentile(errores,2.5),color=\"blue\",linestyle=\"--\",linewidth=2)                                                                                                                                                    \n",
    "axvline(percentile(errores,97.5),color=\"blue\",linestyle=\"--\",linewidth=2) \n",
    "show()\n",
    "print(\"Error Estándar sin Bootsrap:\", err_reg_completa)\n",
    "print(\"Promedio de Error Estándar de la muestras Bootstrap:\", np.mean(errores))\n",
    "print(\"Promedio de Error Estándar de la muestras Bootstrap:\", np.mean(errores))\n",
    "print(\"(\", percentile(errores,2.5),\",\",percentile(errores,97.5),\")\")"
   ]
  },
  {
   "cell_type": "markdown",
   "metadata": {},
   "source": [
    "Podemos observar que esta manera de atacar el problema resulta en un error mayor que el generado en clase a través del remuestreo de los errores estándar de una misma regresión. Cambiemos n"
   ]
  },
  {
   "cell_type": "code",
   "execution_count": null,
   "metadata": {},
   "outputs": [],
   "source": [
    "#Seleccionamos aleatoriamente n=15 muestras\n",
    "sims_2=3200\n",
    "errores_2=np.zeros(sims_2)\n",
    "for  i in range(0,sims_2):\n",
    "    horm_random=bd_horm.sample(n=len(bd_horm[[\"horas\"]]),replace=True)\n",
    "    X = horm_random[[\"horas\"]]\n",
    "    y = horm_random[[\"monto\"]]\n",
    "    reg.fit(X, y)\n",
    "    Y_pred = reg.predict(X)\n",
    "    y_estim=Y_pred.reshape(-1)\n",
    "    x=X.to_numpy().reshape(-1)\n",
    "    y_real=y.to_numpy()\n",
    "    y_real=y_real.reshape(-1)\n",
    "    n=len(y_real)\n",
    "    residual=y_real-y_estim\n",
    "    den=sum((x-np.mean(x))**2)\n",
    "    num=sum(residual**2)/(n)\n",
    "    err_reg=np.sqrt(num/den)\n",
    "    errores_2[i]=err_reg\n",
    "print(errores_2)"
   ]
  },
  {
   "cell_type": "code",
   "execution_count": null,
   "metadata": {},
   "outputs": [],
   "source": [
    "fig, ax = plt.subplots(figsize=(9,6))\n",
    "hist(errores_2,bins=50,alpha=0.5,edgecolor=\"white\",label=\"Error estándar Boostrap\")\n",
    "axvline(x=err_reg_completa,color='green', linestyle='--',linewidth=3,label=\"Error Estándar de b_1 con regresión$\")\n",
    "axvline(x=np.mean(errores_2),color='black', linestyle='--',linewidth=3,label=\"Promedio error estándar de b_1 con  Boostrap$\")\n",
    "\n",
    "axvline(percentile(errores_2,2.5),color=\"blue\",linestyle=\"--\",linewidth=2)                                                                                                                                                    \n",
    "axvline(percentile(errores_2,97.5),color=\"blue\",linestyle=\"--\",linewidth=2) \n",
    "show()\n",
    "print(\"Error Estándar sin Bootsrap:\", err_reg_completa)\n",
    "print(\"Promedio de Error Estándar de la muestras Bootstrap:\", np.mean(errores_2))\n",
    "print(\"Promedio de Error Estándar de la muestras Bootstrap:\", np.mean(errores_2))\n",
    "print(\"(\", percentile(errores_2,2.5),\",\",percentile(errores_2,97.5),\")\")"
   ]
  },
  {
   "cell_type": "markdown",
   "metadata": {},
   "source": [
    "¡Obtuvimos un error menor! en promedio"
   ]
  }
 ],
 "metadata": {
  "kernelspec": {
   "display_name": "Python 3",
   "language": "python",
   "name": "python3"
  },
  "language_info": {
   "codemirror_mode": {
    "name": "ipython",
    "version": 3
   },
   "file_extension": ".py",
   "mimetype": "text/x-python",
   "name": "python",
   "nbconvert_exporter": "python",
   "pygments_lexer": "ipython3",
   "version": "3.8.5"
  }
 },
 "nbformat": 4,
 "nbformat_minor": 4
}
