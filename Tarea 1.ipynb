{
 "cells": [
  {
   "cell_type": "raw",
   "metadata": {},
   "source": [
    "Problema1:\n",
    "El objetivo de las bases es que realicemos un modelo de clasificación para poder contestar la siguiente pregunta:\n",
    "\n",
    "      ¿Damos un crédito bancario o no?\n",
    "\n",
    "Para empezar con la exploración de la base, tendrán que generar un análisis descriptivo de la información que les compartiré:\n",
    " 1.- Los campos _id_ que son los identificadores de la información.\n",
    " 2.- base_ini_interna\n",
    " 3.- base_ini_parte1\n",
    " 4.- base_ini_externa\n",
    " 5.- bases de comportamiento\n",
    " 6.- base_inversión, es una variable simulada de una gamma, es\n",
    " 7.- Cuando una variable es categórica, está implícito en el nombre de la base. No tenemos un diccionario, simplemente que son categóricas.\n",
    " 8.- El resto entonces son continuas. Es decir, los nombre estám enmascarados, ni siquiera yo sé qué significan.\n",
    " \n",
    "\n",
    "¿Cómo hago los cruces? Exploren la información.\n",
    "¿Qué análisis puedo realizar? Exploren ustedes, apóyense de los comportamientos de los ids.\n",
    "Pero... ¿Las preguntas son abiertas? Así es, quiero que exploren. Hay bases que vienen en csv y otras en txt. Vean como tratarlas.\n",
    "\n",
    "El resto de las tarea, son las preguntas que les dejé el dìa miércoles. Les coparto los programas que utilizamos.\n",
    "Pero resumo un poco:\n",
    "\n",
    "\n",
    "Problema 2:\n",
    "De la base data_schools sacar obtener el error estándar con Bootstrap de las variables de la base. \n",
    "Recordemos que tienen que simular N Muestras Boostrap con tamño n. Luego, el otro ejercicio es que lo hagan con n-1.\n",
    "\n",
    "Problema 3: Calcular el eror estándar de las betas del modelo lineal, les expliqué la idea de este problema."
   ]
  },
  {
   "cell_type": "markdown",
   "metadata": {},
   "source": [
    "Primero importamos las librerías necesarias"
   ]
  },
  {
   "cell_type": "code",
   "execution_count": 1,
   "metadata": {},
   "outputs": [],
   "source": [
    "from pylab import*\n",
    "import numpy as np\n",
    "import pandas as pd\n",
    "import scipy.stats \n",
    "from scipy.special import gamma\n",
    "import seaborn as sns\n",
    "from scipy.stats import spearmanr\n",
    "from scipy.stats import beta\n",
    "from sklearn import linear_model"
   ]
  },
  {
   "cell_type": "markdown",
   "metadata": {},
   "source": [
    "# Pregunta 2"
   ]
  },
  {
   "cell_type": "code",
   "execution_count": 2,
   "metadata": {},
   "outputs": [
    {
     "data": {
      "text/html": [
       "<div>\n",
       "<style scoped>\n",
       "    .dataframe tbody tr th:only-of-type {\n",
       "        vertical-align: middle;\n",
       "    }\n",
       "\n",
       "    .dataframe tbody tr th {\n",
       "        vertical-align: top;\n",
       "    }\n",
       "\n",
       "    .dataframe thead th {\n",
       "        text-align: right;\n",
       "    }\n",
       "</style>\n",
       "<table border=\"1\" class=\"dataframe\">\n",
       "  <thead>\n",
       "    <tr style=\"text-align: right;\">\n",
       "      <th></th>\n",
       "      <th>escuela</th>\n",
       "      <th>LSAT</th>\n",
       "      <th>GPA</th>\n",
       "    </tr>\n",
       "  </thead>\n",
       "  <tbody>\n",
       "    <tr>\n",
       "      <th>0</th>\n",
       "      <td>1</td>\n",
       "      <td>622</td>\n",
       "      <td>3.23</td>\n",
       "    </tr>\n",
       "    <tr>\n",
       "      <th>1</th>\n",
       "      <td>2</td>\n",
       "      <td>542</td>\n",
       "      <td>2.83</td>\n",
       "    </tr>\n",
       "    <tr>\n",
       "      <th>2</th>\n",
       "      <td>3</td>\n",
       "      <td>579</td>\n",
       "      <td>3.24</td>\n",
       "    </tr>\n",
       "    <tr>\n",
       "      <th>3</th>\n",
       "      <td>4</td>\n",
       "      <td>653</td>\n",
       "      <td>3.12</td>\n",
       "    </tr>\n",
       "    <tr>\n",
       "      <th>4</th>\n",
       "      <td>5</td>\n",
       "      <td>606</td>\n",
       "      <td>3.09</td>\n",
       "    </tr>\n",
       "    <tr>\n",
       "      <th>...</th>\n",
       "      <td>...</td>\n",
       "      <td>...</td>\n",
       "      <td>...</td>\n",
       "    </tr>\n",
       "    <tr>\n",
       "      <th>77</th>\n",
       "      <td>78</td>\n",
       "      <td>590</td>\n",
       "      <td>3.15</td>\n",
       "    </tr>\n",
       "    <tr>\n",
       "      <th>78</th>\n",
       "      <td>79</td>\n",
       "      <td>558</td>\n",
       "      <td>2.81</td>\n",
       "    </tr>\n",
       "    <tr>\n",
       "      <th>79</th>\n",
       "      <td>80</td>\n",
       "      <td>611</td>\n",
       "      <td>3.16</td>\n",
       "    </tr>\n",
       "    <tr>\n",
       "      <th>80</th>\n",
       "      <td>81</td>\n",
       "      <td>564</td>\n",
       "      <td>3.02</td>\n",
       "    </tr>\n",
       "    <tr>\n",
       "      <th>81</th>\n",
       "      <td>82</td>\n",
       "      <td>575</td>\n",
       "      <td>2.74</td>\n",
       "    </tr>\n",
       "  </tbody>\n",
       "</table>\n",
       "<p>82 rows × 3 columns</p>\n",
       "</div>"
      ],
      "text/plain": [
       "    escuela  LSAT   GPA\n",
       "0         1   622  3.23\n",
       "1         2   542  2.83\n",
       "2         3   579  3.24\n",
       "3         4   653  3.12\n",
       "4         5   606  3.09\n",
       "..      ...   ...   ...\n",
       "77       78   590  3.15\n",
       "78       79   558  2.81\n",
       "79       80   611  3.16\n",
       "80       81   564  3.02\n",
       "81       82   575  2.74\n",
       "\n",
       "[82 rows x 3 columns]"
      ]
     },
     "execution_count": 2,
     "metadata": {},
     "output_type": "execute_result"
    }
   ],
   "source": [
    "bd=\"data_schools.xlsx\"\n",
    "bd_escuelas=pd.read_excel(bd)\n",
    "bd_escuelas #Vemos si cargó"
   ]
  },
  {
   "cell_type": "markdown",
   "metadata": {},
   "source": [
    "## Para n"
   ]
  },
  {
   "cell_type": "code",
   "execution_count": 55,
   "metadata": {},
   "outputs": [
    {
     "name": "stdout",
     "output_type": "stream",
     "text": [
      "[0.4801444  0.89982111 0.73476703 ... 0.59910531 0.76139441 0.70420046]\n"
     ]
    }
   ],
   "source": [
    "#Seleccionamos aleatoriamente n escuelas\n",
    "cor=np.zeros(3200)\n",
    "for  i in range(0,3200):\n",
    "    escuelas_random=bd_escuelas.sample(n=15,replace=True)\n",
    "    cor[i]= spearmanr(escuelas_random.LSAT, escuelas_random.GPA)[0]\n",
    "print(cor)"
   ]
  },
  {
   "cell_type": "code",
   "execution_count": 56,
   "metadata": {},
   "outputs": [
    {
     "data": {
      "text/plain": [
       "0.1476726831818904"
      ]
     },
     "execution_count": 56,
     "metadata": {},
     "output_type": "execute_result"
    }
   ],
   "source": [
    "#El error estándar bootstrap es:\n",
    "err_bt=np.std(cor)\n",
    "err_bt"
   ]
  },
  {
   "cell_type": "code",
   "execution_count": 57,
   "metadata": {},
   "outputs": [
    {
     "data": {
      "text/plain": [
       "0.7526621356232132"
      ]
     },
     "execution_count": 57,
     "metadata": {},
     "output_type": "execute_result"
    }
   ],
   "source": [
    "#La correlación sin bootstrap es:\n",
    "cor_data = spearmanr(bd_escuelas.LSAT, bd_escuelas.GPA)[0]\n",
    "cor_data"
   ]
  },
  {
   "cell_type": "code",
   "execution_count": 58,
   "metadata": {},
   "outputs": [
    {
     "data": {
      "image/png": "[encoded data removed]",
      "text/plain": [
       "<Figure size 648x432 with 1 Axes>"
      ]
     },
     "metadata": {
      "needs_background": "light"
     },
     "output_type": "display_data"
    },
    {
     "name": "stdout",
     "output_type": "stream",
     "text": [
      "Correlación sin Bootsrap: 0.7526621356232132\n",
      "Promedio de correlación de la muestras Bootstrap: 0.7178117606845299\n",
      "Error estándar las muestras Bootstrap: 0.1476726831818904\n",
      "( 0.34880025748264926 , 0.9303505762726403 )\n"
     ]
    }
   ],
   "source": [
    "#Hacemos el gráfico \n",
    "fig, ax = plt.subplots(figsize=(9,6))\n",
    "hist(cor,bins=50,alpha=0.5,edgecolor=\"white\",label=\"Error estándar Boostrap\")\n",
    "axvline(x=cor_data,color='green', linestyle='--',linewidth=3,label=\"Correlación sin bootstrap$\")\n",
    "axvline(x=np.mean(cor),color='black', linestyle='--',linewidth=3,label=\"Promedio de correlación con  Boostrap$\")\n",
    "\n",
    "axvline(percentile(cor,2.5),color=\"blue\",linestyle=\"--\",linewidth=2)                                                                                                                                                    \n",
    "axvline(percentile(cor,97.5),color=\"blue\",linestyle=\"--\",linewidth=2) \n",
    "show()\n",
    "print(\"Correlación sin Bootsrap:\", cor_data)\n",
    "print(\"Promedio de correlación de la muestras Bootstrap:\", np.mean(cor))\n",
    "print(\"Error estándar las muestras Bootstrap:\", err_bt)\n",
    "print(\"(\", percentile(cor,2.5),\",\",percentile(cor,97.5),\")\")"
   ]
  },
  {
   "cell_type": "code",
   "execution_count": 25,
   "metadata": {},
   "outputs": [
    {
     "data": {
      "text/plain": [
       "array([0.        , 0.23808778, 0.20719538, ..., 0.13309749, 0.13307736,\n",
       "       0.13309356])"
      ]
     },
     "execution_count": 25,
     "metadata": {},
     "output_type": "execute_result"
    }
   ],
   "source": [
    "#Podemos notar que conforme el número de simulaciones Boostrap aumenta, el error estándar\n",
    "#baja.\n",
    "estimadores_se_bt=np.zeros(3200)\n",
    "for i in range(len(cor)):\n",
    "    estimadores_se_bt[i]=np.std(cor[0:(i+1)])\n",
    "estimadores_se_bt"
   ]
  },
  {
   "cell_type": "code",
   "execution_count": 109,
   "metadata": {},
   "outputs": [
    {
     "data": {
      "text/plain": [
       "0.13138801511477796"
      ]
     },
     "execution_count": 109,
     "metadata": {},
     "output_type": "execute_result"
    }
   ],
   "source": [
    "min_1=min(estimadores_se_bt[1:])\n",
    "min_1"
   ]
  },
  {
   "cell_type": "code",
   "execution_count": 110,
   "metadata": {},
   "outputs": [
    {
     "data": {
      "text/plain": [
       "1901"
      ]
     },
     "execution_count": 110,
     "metadata": {},
     "output_type": "execute_result"
    }
   ],
   "source": [
    "index_1=(np.asarray(estimadores_se_bt==min_1).nonzero())[0][0]\n",
    "index_1"
   ]
  },
  {
   "cell_type": "code",
   "execution_count": 94,
   "metadata": {},
   "outputs": [
    {
     "data": {
      "text/plain": [
       "0.13138801511477796"
      ]
     },
     "execution_count": 94,
     "metadata": {},
     "output_type": "execute_result"
    }
   ],
   "source": [
    "estimadores_se_bt[index_1]"
   ]
  },
  {
   "cell_type": "markdown",
   "metadata": {},
   "source": [
    "Acorde a esto, 1902 simulaciones boostrap minimiza el error estándar. Ya que el índice i es hasta i+1 iteraciones boostrap"
   ]
  },
  {
   "cell_type": "markdown",
   "metadata": {},
   "source": [
    "## Para n-1"
   ]
  },
  {
   "cell_type": "code",
   "execution_count": 71,
   "metadata": {},
   "outputs": [
    {
     "name": "stdout",
     "output_type": "stream",
     "text": [
      "[0.85714286 0.94196429 0.11778218 ... 0.65834322 0.69444444 0.83212228]\n"
     ]
    }
   ],
   "source": [
    "#Seleccionamos aleatoriamente n-1 escuelas\n",
    "cor_2=np.zeros(3200)\n",
    "for  i in range(0,3200):\n",
    "    escuelas_random=bd_escuelas.sample(n=15,replace=True)\n",
    "    escuelas_random=escuelas_random.sample(n=14,replace=True)\n",
    "    cor_2[i]= spearmanr(escuelas_random.LSAT, escuelas_random.GPA)[0]\n",
    "print(cor_2)"
   ]
  },
  {
   "cell_type": "code",
   "execution_count": 72,
   "metadata": {},
   "outputs": [
    {
     "data": {
      "text/plain": [
       "0.2323708405692049"
      ]
     },
     "execution_count": 72,
     "metadata": {},
     "output_type": "execute_result"
    }
   ],
   "source": [
    "#El error estándar bootstrap es:\n",
    "err_bt_2=np.std(cor_2)\n",
    "err_bt_2"
   ]
  },
  {
   "cell_type": "code",
   "execution_count": 73,
   "metadata": {},
   "outputs": [
    {
     "data": {
      "text/plain": [
       "0.7526621356232132"
      ]
     },
     "execution_count": 73,
     "metadata": {},
     "output_type": "execute_result"
    }
   ],
   "source": [
    "#La correlación sin bootstrap es:\n",
    "cor_data = spearmanr(bd_escuelas.LSAT, bd_escuelas.GPA)[0]\n",
    "cor_data"
   ]
  },
  {
   "cell_type": "code",
   "execution_count": 74,
   "metadata": {},
   "outputs": [
    {
     "data": {
      "image/png": "[encoded data removed]",
      "text/plain": [
       "<Figure size 648x432 with 1 Axes>"
      ]
     },
     "metadata": {
      "needs_background": "light"
     },
     "output_type": "display_data"
    },
    {
     "name": "stdout",
     "output_type": "stream",
     "text": [
      "Correlación sin Bootsrap: 0.7526621356232132\n",
      "Promedio de correlación de la muestras Bootstrap: 0.6906978238464879\n",
      "Error estándar las muestras Bootstrap: 0.2323708405692049\n",
      "( 0.06278273098012183 , 0.9749152015732035 )\n"
     ]
    }
   ],
   "source": [
    "#Hacemos el gráfico \n",
    "fig, ax = plt.subplots(figsize=(9,6))\n",
    "hist(cor_2,bins=50,alpha=0.5,edgecolor=\"white\",label=\"Error estándar Boostrap\")\n",
    "axvline(x=cor_data,color='green', linestyle='--',linewidth=3,label=\"Correlación sin bootstrap$\")\n",
    "axvline(x=np.mean(cor_2),color='black', linestyle='--',linewidth=3,label=\"Promedio de correlación con  Boostrap$\")\n",
    "\n",
    "axvline(percentile(cor_2,2.5),color=\"blue\",linestyle=\"--\",linewidth=2)                                                                                                                                                    \n",
    "axvline(percentile(cor_2,97.5),color=\"blue\",linestyle=\"--\",linewidth=2) \n",
    "show()\n",
    "print(\"Correlación sin Bootsrap:\", cor_data)\n",
    "print(\"Promedio de correlación de la muestras Bootstrap:\", np.mean(cor_2))\n",
    "print(\"Error estándar las muestras Bootstrap:\", err_bt_2)\n",
    "print(\"(\", percentile(cor_2,2.5),\",\",percentile(cor_2,97.5),\")\")"
   ]
  },
  {
   "cell_type": "code",
   "execution_count": 36,
   "metadata": {},
   "outputs": [
    {
     "data": {
      "text/plain": [
       "array([0.        , 0.07513741, 0.12863418, ..., 0.14009263, 0.14010005,\n",
       "       0.14008291])"
      ]
     },
     "execution_count": 36,
     "metadata": {},
     "output_type": "execute_result"
    }
   ],
   "source": [
    "#Podemos notar que conforme el número de simulaciones Boostrap aumenta, el error estándar\n",
    "#baja.\n",
    "estimadores_se_bt2=np.zeros(3200)\n",
    "for i in range(len(cor_2)):\n",
    "    estimadores_se_bt2[i]=np.std(cor_2[0:(i+1)])\n",
    "estimadores_se_bt2"
   ]
  },
  {
   "cell_type": "code",
   "execution_count": 107,
   "metadata": {},
   "outputs": [
    {
     "data": {
      "text/plain": [
       "0.13758659684753416"
      ]
     },
     "execution_count": 107,
     "metadata": {},
     "output_type": "execute_result"
    }
   ],
   "source": [
    "min_2=min(estimadores_se_bt2[10:])\n",
    "min_2"
   ]
  },
  {
   "cell_type": "code",
   "execution_count": 108,
   "metadata": {},
   "outputs": [
    {
     "data": {
      "text/plain": [
       "1622"
      ]
     },
     "execution_count": 108,
     "metadata": {},
     "output_type": "execute_result"
    }
   ],
   "source": [
    "index_2=(np.asarray(estimadores_se_bt2==min_2).nonzero())[0][0]\n",
    "index_2"
   ]
  },
  {
   "cell_type": "code",
   "execution_count": 96,
   "metadata": {},
   "outputs": [
    {
     "data": {
      "text/plain": [
       "0.13758659684753416"
      ]
     },
     "execution_count": 96,
     "metadata": {},
     "output_type": "execute_result"
    }
   ],
   "source": [
    "estimadores_se_bt2[index_2]"
   ]
  },
  {
   "cell_type": "markdown",
   "metadata": {},
   "source": [
    "Acorde a esto, 1624 simulaciones boostrap minimiza el error estándar. Ya que el índice i es hasta i+1 iteraciones boostrap"
   ]
  },
  {
   "cell_type": "markdown",
   "metadata": {},
   "source": [
    "## Para toda la muestra"
   ]
  },
  {
   "cell_type": "code",
   "execution_count": 80,
   "metadata": {},
   "outputs": [
    {
     "name": "stdout",
     "output_type": "stream",
     "text": [
      "[0.76925891 0.65242989 0.77990898 ... 0.5751559  0.79042727 0.75691227]\n"
     ]
    }
   ],
   "source": [
    "#Seleccionamos aleatoriamente n=82, que es el tamaño de la muestra, escuelas\n",
    "cor_3=np.zeros(3200)\n",
    "for  i in range(0,3200):\n",
    "    escuelas_random=bd_escuelas.sample(n=82,replace=True)\n",
    "    cor_3[i]= spearmanr(escuelas_random.LSAT, escuelas_random.GPA)[0]\n",
    "print(cor_3)"
   ]
  },
  {
   "cell_type": "code",
   "execution_count": 81,
   "metadata": {},
   "outputs": [
    {
     "data": {
      "text/plain": [
       "0.05544886992211036"
      ]
     },
     "execution_count": 81,
     "metadata": {},
     "output_type": "execute_result"
    }
   ],
   "source": [
    "#El error estándar bootstrap es:\n",
    "err_bt_3=np.std(cor_3)\n",
    "err_bt_3"
   ]
  },
  {
   "cell_type": "code",
   "execution_count": 82,
   "metadata": {},
   "outputs": [
    {
     "data": {
      "text/plain": [
       "0.7526621356232132"
      ]
     },
     "execution_count": 82,
     "metadata": {},
     "output_type": "execute_result"
    }
   ],
   "source": [
    "#La correlación sin bootstrap es:\n",
    "cor_data = spearmanr(bd_escuelas.LSAT, bd_escuelas.GPA)[0]\n",
    "cor_data"
   ]
  },
  {
   "cell_type": "code",
   "execution_count": 83,
   "metadata": {},
   "outputs": [
    {
     "data": {
      "image/png": "[encoded data removed]",
      "text/plain": [
       "<Figure size 648x432 with 1 Axes>"
      ]
     },
     "metadata": {
      "needs_background": "light"
     },
     "output_type": "display_data"
    },
    {
     "name": "stdout",
     "output_type": "stream",
     "text": [
      "Correlación sin Bootsrap: 0.7526621356232132\n",
      "Promedio de correlación de la muestras Bootstrap: 0.7471735420039525\n",
      "Error estándar las muestras Bootstrap: 0.05544886992211036\n",
      "( 0.627056360871604 , 0.842496949623107 )\n"
     ]
    }
   ],
   "source": [
    "#Hacemos el gráfico \n",
    "fig, ax = plt.subplots(figsize=(9,6))\n",
    "hist(cor_3,bins=50,alpha=0.5,edgecolor=\"white\",label=\"Error estándar Boostrap\")\n",
    "axvline(x=cor_data,color='green', linestyle='--',linewidth=3,label=\"Correlación sin bootstrap$\")\n",
    "axvline(x=np.mean(cor_3),color='black', linestyle='--',linewidth=3,label=\"Promedio de correlación con  Boostrap$\")\n",
    "\n",
    "axvline(percentile(cor_3,2.5),color=\"blue\",linestyle=\"--\",linewidth=2)                                                                                                                                                    \n",
    "axvline(percentile(cor_3,97.5),color=\"blue\",linestyle=\"--\",linewidth=2) \n",
    "show()\n",
    "print(\"Correlación sin Bootsrap:\", cor_data)\n",
    "print(\"Promedio de correlación de la muestras Bootstrap:\", np.mean(cor_3))\n",
    "print(\"Error estándar las muestras Bootstrap:\", err_bt_3)\n",
    "print(\"(\", percentile(cor_3,2.5),\",\",percentile(cor_3,97.5),\")\")"
   ]
  },
  {
   "cell_type": "code",
   "execution_count": 84,
   "metadata": {},
   "outputs": [
    {
     "data": {
      "text/plain": [
       "array([0.        , 0.05841451, 0.05774788, ..., 0.05546066, 0.05545727,\n",
       "       0.05544887])"
      ]
     },
     "execution_count": 84,
     "metadata": {},
     "output_type": "execute_result"
    }
   ],
   "source": [
    "#Podemos notar que conforme el número de simulaciones Boostrap aumenta, el error estándar\n",
    "#baja.\n",
    "estimadores_se_bt3=np.zeros(3200)\n",
    "for i in range(len(cor_3)):\n",
    "    estimadores_se_bt3[i]=np.std(cor_3[0:(i+1)])\n",
    "estimadores_se_bt3"
   ]
  },
  {
   "cell_type": "code",
   "execution_count": 106,
   "metadata": {},
   "outputs": [
    {
     "data": {
      "text/plain": [
       "0.05492424291739675"
      ]
     },
     "execution_count": 106,
     "metadata": {},
     "output_type": "execute_result"
    }
   ],
   "source": [
    "min_3=min(estimadores_se_bt3[20:])\n",
    "min_3"
   ]
  },
  {
   "cell_type": "code",
   "execution_count": 105,
   "metadata": {},
   "outputs": [
    {
     "data": {
      "text/plain": [
       "171"
      ]
     },
     "execution_count": 105,
     "metadata": {},
     "output_type": "execute_result"
    }
   ],
   "source": [
    "index_3=(np.asarray(estimadores_se_bt3==min_3).nonzero())[0][0]\n",
    "index_3"
   ]
  },
  {
   "cell_type": "code",
   "execution_count": 102,
   "metadata": {},
   "outputs": [
    {
     "data": {
      "text/plain": [
       "0.05492424291739675"
      ]
     },
     "execution_count": 102,
     "metadata": {},
     "output_type": "execute_result"
    }
   ],
   "source": [
    "estimadores_se_bt3[index_3]"
   ]
  },
  {
   "cell_type": "markdown",
   "metadata": {},
   "source": [
    "Acorde a esto, 79 simulaciones boostrap minimiza el error estándar. Ya que el índice i es hasta i+1 iteraciones boostrap"
   ]
  },
  {
   "cell_type": "markdown",
   "metadata": {},
   "source": [
    "# Pregunta 3"
   ]
  },
  {
   "cell_type": "code",
   "execution_count": 2,
   "metadata": {},
   "outputs": [
    {
     "data": {
      "text/html": [
       "<div>\n",
       "<style scoped>\n",
       "    .dataframe tbody tr th:only-of-type {\n",
       "        vertical-align: middle;\n",
       "    }\n",
       "\n",
       "    .dataframe tbody tr th {\n",
       "        vertical-align: top;\n",
       "    }\n",
       "\n",
       "    .dataframe thead th {\n",
       "        text-align: right;\n",
       "    }\n",
       "</style>\n",
       "<table border=\"1\" class=\"dataframe\">\n",
       "  <thead>\n",
       "    <tr style=\"text-align: right;\">\n",
       "      <th></th>\n",
       "      <th>lote</th>\n",
       "      <th>horas</th>\n",
       "      <th>monto</th>\n",
       "    </tr>\n",
       "  </thead>\n",
       "  <tbody>\n",
       "    <tr>\n",
       "      <th>0</th>\n",
       "      <td>A</td>\n",
       "      <td>99</td>\n",
       "      <td>25.8</td>\n",
       "    </tr>\n",
       "    <tr>\n",
       "      <th>1</th>\n",
       "      <td>A</td>\n",
       "      <td>152</td>\n",
       "      <td>20.5</td>\n",
       "    </tr>\n",
       "    <tr>\n",
       "      <th>2</th>\n",
       "      <td>A</td>\n",
       "      <td>293</td>\n",
       "      <td>14.3</td>\n",
       "    </tr>\n",
       "    <tr>\n",
       "      <th>3</th>\n",
       "      <td>A</td>\n",
       "      <td>155</td>\n",
       "      <td>23.2</td>\n",
       "    </tr>\n",
       "    <tr>\n",
       "      <th>4</th>\n",
       "      <td>A</td>\n",
       "      <td>196</td>\n",
       "      <td>20.6</td>\n",
       "    </tr>\n",
       "    <tr>\n",
       "      <th>5</th>\n",
       "      <td>A</td>\n",
       "      <td>53</td>\n",
       "      <td>31.1</td>\n",
       "    </tr>\n",
       "    <tr>\n",
       "      <th>6</th>\n",
       "      <td>A</td>\n",
       "      <td>184</td>\n",
       "      <td>20.9</td>\n",
       "    </tr>\n",
       "    <tr>\n",
       "      <th>7</th>\n",
       "      <td>A</td>\n",
       "      <td>171</td>\n",
       "      <td>20.9</td>\n",
       "    </tr>\n",
       "    <tr>\n",
       "      <th>8</th>\n",
       "      <td>A</td>\n",
       "      <td>52</td>\n",
       "      <td>30.4</td>\n",
       "    </tr>\n",
       "    <tr>\n",
       "      <th>9</th>\n",
       "      <td>B</td>\n",
       "      <td>376</td>\n",
       "      <td>16.3</td>\n",
       "    </tr>\n",
       "    <tr>\n",
       "      <th>10</th>\n",
       "      <td>B</td>\n",
       "      <td>385</td>\n",
       "      <td>11.6</td>\n",
       "    </tr>\n",
       "    <tr>\n",
       "      <th>11</th>\n",
       "      <td>B</td>\n",
       "      <td>402</td>\n",
       "      <td>11.8</td>\n",
       "    </tr>\n",
       "    <tr>\n",
       "      <th>12</th>\n",
       "      <td>B</td>\n",
       "      <td>29</td>\n",
       "      <td>32.5</td>\n",
       "    </tr>\n",
       "    <tr>\n",
       "      <th>13</th>\n",
       "      <td>B</td>\n",
       "      <td>76</td>\n",
       "      <td>32.0</td>\n",
       "    </tr>\n",
       "    <tr>\n",
       "      <th>14</th>\n",
       "      <td>B</td>\n",
       "      <td>296</td>\n",
       "      <td>18.0</td>\n",
       "    </tr>\n",
       "    <tr>\n",
       "      <th>15</th>\n",
       "      <td>B</td>\n",
       "      <td>151</td>\n",
       "      <td>24.1</td>\n",
       "    </tr>\n",
       "    <tr>\n",
       "      <th>16</th>\n",
       "      <td>B</td>\n",
       "      <td>177</td>\n",
       "      <td>26.5</td>\n",
       "    </tr>\n",
       "    <tr>\n",
       "      <th>17</th>\n",
       "      <td>B</td>\n",
       "      <td>209</td>\n",
       "      <td>25.8</td>\n",
       "    </tr>\n",
       "    <tr>\n",
       "      <th>18</th>\n",
       "      <td>C</td>\n",
       "      <td>119</td>\n",
       "      <td>28.8</td>\n",
       "    </tr>\n",
       "    <tr>\n",
       "      <th>19</th>\n",
       "      <td>C</td>\n",
       "      <td>188</td>\n",
       "      <td>22.0</td>\n",
       "    </tr>\n",
       "    <tr>\n",
       "      <th>20</th>\n",
       "      <td>C</td>\n",
       "      <td>115</td>\n",
       "      <td>29.7</td>\n",
       "    </tr>\n",
       "    <tr>\n",
       "      <th>21</th>\n",
       "      <td>C</td>\n",
       "      <td>88</td>\n",
       "      <td>28.9</td>\n",
       "    </tr>\n",
       "    <tr>\n",
       "      <th>22</th>\n",
       "      <td>C</td>\n",
       "      <td>58</td>\n",
       "      <td>32.8</td>\n",
       "    </tr>\n",
       "    <tr>\n",
       "      <th>23</th>\n",
       "      <td>C</td>\n",
       "      <td>49</td>\n",
       "      <td>32.5</td>\n",
       "    </tr>\n",
       "    <tr>\n",
       "      <th>24</th>\n",
       "      <td>C</td>\n",
       "      <td>150</td>\n",
       "      <td>25.4</td>\n",
       "    </tr>\n",
       "    <tr>\n",
       "      <th>25</th>\n",
       "      <td>C</td>\n",
       "      <td>107</td>\n",
       "      <td>31.7</td>\n",
       "    </tr>\n",
       "    <tr>\n",
       "      <th>26</th>\n",
       "      <td>C</td>\n",
       "      <td>125</td>\n",
       "      <td>28.5</td>\n",
       "    </tr>\n",
       "  </tbody>\n",
       "</table>\n",
       "</div>"
      ],
      "text/plain": [
       "   lote  horas  monto\n",
       "0     A     99   25.8\n",
       "1     A    152   20.5\n",
       "2     A    293   14.3\n",
       "3     A    155   23.2\n",
       "4     A    196   20.6\n",
       "5     A     53   31.1\n",
       "6     A    184   20.9\n",
       "7     A    171   20.9\n",
       "8     A     52   30.4\n",
       "9     B    376   16.3\n",
       "10    B    385   11.6\n",
       "11    B    402   11.8\n",
       "12    B     29   32.5\n",
       "13    B     76   32.0\n",
       "14    B    296   18.0\n",
       "15    B    151   24.1\n",
       "16    B    177   26.5\n",
       "17    B    209   25.8\n",
       "18    C    119   28.8\n",
       "19    C    188   22.0\n",
       "20    C    115   29.7\n",
       "21    C     88   28.9\n",
       "22    C     58   32.8\n",
       "23    C     49   32.5\n",
       "24    C    150   25.4\n",
       "25    C    107   31.7\n",
       "26    C    125   28.5"
      ]
     },
     "execution_count": 2,
     "metadata": {},
     "output_type": "execute_result"
    }
   ],
   "source": [
    "bd2=\"lineal_horm.xlsx\"\n",
    "bd_horm=pd.read_excel(bd2)\n",
    "bd_horm"
   ]
  },
  {
   "cell_type": "code",
   "execution_count": 7,
   "metadata": {},
   "outputs": [],
   "source": [
    "reg = linear_model.LinearRegression()"
   ]
  },
  {
   "cell_type": "code",
   "execution_count": 8,
   "metadata": {},
   "outputs": [
    {
     "data": {
      "text/plain": [
       "0.004295652626358282"
      ]
     },
     "execution_count": 8,
     "metadata": {},
     "output_type": "execute_result"
    }
   ],
   "source": [
    "X = bd_horm[[\"horas\"]]\n",
    "y = bd_horm[[\"monto\"]]\n",
    "reg.fit(X,y)\n",
    "Y_pred = reg.predict(X)\n",
    "y_estim=Y_pred.reshape(-1)\n",
    "x=X.to_numpy().reshape(-1)\n",
    "y_real=y.to_numpy()\n",
    "y_real=y_real.reshape(-1)\n",
    "n=len(y_real)\n",
    "residual=y_real-y_estim\n",
    "den=sum((x-np.mean(x))**2)\n",
    "num=sum(residual**2)/(n)\n",
    "err_reg_completa=np.sqrt(num/den)\n",
    "err_reg_completa"
   ]
  },
  {
   "cell_type": "code",
   "execution_count": 126,
   "metadata": {},
   "outputs": [
    {
     "name": "stdout",
     "output_type": "stream",
     "text": [
      "[0.00650683 0.00572345 0.00354918 ... 0.00481922 0.00352027 0.00801548]\n"
     ]
    }
   ],
   "source": [
    "#Seleccionamos aleatoriamente n=15 muestras\n",
    "sims=3200\n",
    "errores=np.zeros(sims)\n",
    "for  i in range(0,sims):\n",
    "    horm_random=bd_horm.sample(n=15,replace=True)\n",
    "    X = horm_random[[\"horas\"]]\n",
    "    y = horm_random[[\"monto\"]]\n",
    "    reg.fit(X, y)\n",
    "    Y_pred = reg.predict(X)\n",
    "    y_estim=Y_pred.reshape(-1)\n",
    "    x=X.to_numpy().reshape(-1)\n",
    "    y_real=y.to_numpy()\n",
    "    y_real=y_real.reshape(-1)\n",
    "    n=len(y_real)\n",
    "    residual=y_real-y_estim\n",
    "    den=sum((x-np.mean(x))**2)\n",
    "    num=sum(residual**2)/(n)\n",
    "    err_reg=np.sqrt(num/den)\n",
    "    errores[i]=err_reg\n",
    "print(errores)"
   ]
  },
  {
   "cell_type": "code",
   "execution_count": 127,
   "metadata": {},
   "outputs": [
    {
     "data": {
      "image/png": "[encoded data removed]",
      "text/plain": [
       "<Figure size 648x432 with 1 Axes>"
      ]
     },
     "metadata": {
      "needs_background": "light"
     },
     "output_type": "display_data"
    },
    {
     "name": "stdout",
     "output_type": "stream",
     "text": [
      "Error Estándar sin Bootsrap: 0.004295652626358282\n",
      "Promedio de Error Estándar de la muestras Bootstrap: 0.005963861555921929\n",
      "Promedio de Error Estándar de la muestras Bootstrap: 0.005963861555921929\n",
      "( 0.0033205041665581502 , 0.011236727272079595 )\n"
     ]
    }
   ],
   "source": [
    "fig, ax = plt.subplots(figsize=(9,6))\n",
    "hist(errores,bins=50,alpha=0.5,edgecolor=\"white\",label=\"Error estándar Boostrap\")\n",
    "axvline(x=err_reg_completa,color='green', linestyle='--',linewidth=3,label=\"Error Estándar de b_1 con regresión$\")\n",
    "axvline(x=np.mean(errores),color='black', linestyle='--',linewidth=3,label=\"Promedio error estándar de b_1 con  Boostrap$\")\n",
    "\n",
    "axvline(percentile(errores,2.5),color=\"blue\",linestyle=\"--\",linewidth=2)                                                                                                                                                    \n",
    "axvline(percentile(errores,97.5),color=\"blue\",linestyle=\"--\",linewidth=2) \n",
    "show()\n",
    "print(\"Error Estándar sin Bootsrap:\", err_reg_completa)\n",
    "print(\"Promedio de Error Estándar de la muestras Bootstrap:\", np.mean(errores))\n",
    "print(\"Promedio de Error Estándar de la muestras Bootstrap:\", np.mean(errores))\n",
    "print(\"(\", percentile(errores,2.5),\",\",percentile(errores,97.5),\")\")"
   ]
  },
  {
   "cell_type": "markdown",
   "metadata": {},
   "source": [
    "Podemos observar que esta manera de atacar el problema resulta en un error mayor que el generado en clase a través del remuestreo de los errores estándar de una misma regresión. Cambiemos n"
   ]
  },
  {
   "cell_type": "code",
   "execution_count": 124,
   "metadata": {},
   "outputs": [
    {
     "name": "stdout",
     "output_type": "stream",
     "text": [
      "[0.00318752 0.00354275 0.00477575 ... 0.00625507 0.00461365 0.00515329]\n"
     ]
    }
   ],
   "source": [
    "#Seleccionamos aleatoriamente n=15 muestras\n",
    "sims_2=3200\n",
    "errores_2=np.zeros(sims_2)\n",
    "for  i in range(0,sims_2):\n",
    "    horm_random=bd_horm.sample(n=len(bd_horm[[\"horas\"]]),replace=True)\n",
    "    X = horm_random[[\"horas\"]]\n",
    "    y = horm_random[[\"monto\"]]\n",
    "    reg.fit(X, y)\n",
    "    Y_pred = reg.predict(X)\n",
    "    y_estim=Y_pred.reshape(-1)\n",
    "    x=X.to_numpy().reshape(-1)\n",
    "    y_real=y.to_numpy()\n",
    "    y_real=y_real.reshape(-1)\n",
    "    n=len(y_real)\n",
    "    residual=y_real-y_estim\n",
    "    den=sum((x-np.mean(x))**2)\n",
    "    num=sum(residual**2)/(n)\n",
    "    err_reg=np.sqrt(num/den)\n",
    "    errores_2[i]=err_reg\n",
    "print(errores_2)"
   ]
  },
  {
   "cell_type": "code",
   "execution_count": 125,
   "metadata": {},
   "outputs": [
    {
     "data": {
      "image/png": "[encoded data removed]",
      "text/plain": [
       "<Figure size 648x432 with 1 Axes>"
      ]
     },
     "metadata": {
      "needs_background": "light"
     },
     "output_type": "display_data"
    },
    {
     "name": "stdout",
     "output_type": "stream",
     "text": [
      "Error Estándar sin Bootsrap: 0.004295652626358282\n",
      "Promedio de Error Estándar de la muestras Bootstrap: 0.004352224487050207\n",
      "Promedio de Error Estándar de la muestras Bootstrap: 0.004352224487050207\n",
      "( 0.0029025949465638435 , 0.006444142079389668 )\n"
     ]
    }
   ],
   "source": [
    "fig, ax = plt.subplots(figsize=(9,6))\n",
    "hist(errores_2,bins=50,alpha=0.5,edgecolor=\"white\",label=\"Error estándar Boostrap\")\n",
    "axvline(x=err_reg_completa,color='green', linestyle='--',linewidth=3,label=\"Error Estándar de b_1 con regresión$\")\n",
    "axvline(x=np.mean(errores_2),color='black', linestyle='--',linewidth=3,label=\"Promedio error estándar de b_1 con  Boostrap$\")\n",
    "\n",
    "axvline(percentile(errores_2,2.5),color=\"blue\",linestyle=\"--\",linewidth=2)                                                                                                                                                    \n",
    "axvline(percentile(errores_2,97.5),color=\"blue\",linestyle=\"--\",linewidth=2) \n",
    "show()\n",
    "print(\"Error Estándar sin Bootsrap:\", err_reg_completa)\n",
    "print(\"Promedio de Error Estándar de la muestras Bootstrap:\", np.mean(errores_2))\n",
    "print(\"Promedio de Error Estándar de la muestras Bootstrap:\", np.mean(errores_2))\n",
    "print(\"(\", percentile(errores_2,2.5),\",\",percentile(errores_2,97.5),\")\")"
   ]
  },
  {
   "cell_type": "markdown",
   "metadata": {},
   "source": [
    "¡Obtuvimos un error menor! en promedio"
   ]
  },
  {
   "cell_type": "code",
   "execution_count": 5,
   "metadata": {},
   "outputs": [
    {
     "data": {
      "text/html": [
       "<div>\n",
       "<style scoped>\n",
       "    .dataframe tbody tr th:only-of-type {\n",
       "        vertical-align: middle;\n",
       "    }\n",
       "\n",
       "    .dataframe tbody tr th {\n",
       "        vertical-align: top;\n",
       "    }\n",
       "\n",
       "    .dataframe thead th {\n",
       "        text-align: right;\n",
       "    }\n",
       "</style>\n",
       "<table border=\"1\" class=\"dataframe\">\n",
       "  <thead>\n",
       "    <tr style=\"text-align: right;\">\n",
       "      <th></th>\n",
       "      <th>lote</th>\n",
       "      <th>horas</th>\n",
       "      <th>monto</th>\n",
       "    </tr>\n",
       "  </thead>\n",
       "  <tbody>\n",
       "    <tr>\n",
       "      <th>2</th>\n",
       "      <td>A</td>\n",
       "      <td>293</td>\n",
       "      <td>14.3</td>\n",
       "    </tr>\n",
       "    <tr>\n",
       "      <th>0</th>\n",
       "      <td>A</td>\n",
       "      <td>99</td>\n",
       "      <td>25.8</td>\n",
       "    </tr>\n",
       "    <tr>\n",
       "      <th>15</th>\n",
       "      <td>B</td>\n",
       "      <td>151</td>\n",
       "      <td>24.1</td>\n",
       "    </tr>\n",
       "    <tr>\n",
       "      <th>10</th>\n",
       "      <td>B</td>\n",
       "      <td>385</td>\n",
       "      <td>11.6</td>\n",
       "    </tr>\n",
       "    <tr>\n",
       "      <th>21</th>\n",
       "      <td>C</td>\n",
       "      <td>88</td>\n",
       "      <td>28.9</td>\n",
       "    </tr>\n",
       "    <tr>\n",
       "      <th>25</th>\n",
       "      <td>C</td>\n",
       "      <td>107</td>\n",
       "      <td>31.7</td>\n",
       "    </tr>\n",
       "  </tbody>\n",
       "</table>\n",
       "</div>"
      ],
      "text/plain": [
       "   lote  horas  monto\n",
       "2     A    293   14.3\n",
       "0     A     99   25.8\n",
       "15    B    151   24.1\n",
       "10    B    385   11.6\n",
       "21    C     88   28.9\n",
       "25    C    107   31.7"
      ]
     },
     "execution_count": 5,
     "metadata": {},
     "output_type": "execute_result"
    }
   ],
   "source": [
    "bd_horm.groupby(['lote']).sample(n=2,replace=True)"
   ]
  },
  {
   "cell_type": "code",
   "execution_count": 18,
   "metadata": {},
   "outputs": [
    {
     "name": "stdout",
     "output_type": "stream",
     "text": [
      "   lote  horas  monto\n",
      "0     A     99   25.8\n",
      "4     A    196   20.6\n",
      "2     A    293   14.3\n",
      "2     A    293   14.3\n",
      "11    B    402   11.8\n",
      "13    B     76   32.0\n",
      "10    B    385   11.6\n",
      "16    B    177   26.5\n",
      "26    C    125   28.5\n",
      "18    C    119   28.8\n",
      "25    C    107   31.7\n",
      "21    C     88   28.9\n",
      "   lote  horas  monto\n",
      "2     A    293   14.3\n",
      "2     A    293   14.3\n",
      "4     A    196   20.6\n",
      "8     A     52   30.4\n",
      "2     A    293   14.3\n",
      "3     A    155   23.2\n",
      "0     A     99   25.8\n",
      "1     A    152   20.5\n",
      "6     A    184   20.9\n",
      "4     A    196   20.6\n",
      "2     A    293   14.3\n",
      "6     A    184   20.9\n",
      "14    B    296   18.0\n",
      "16    B    177   26.5\n",
      "10    B    385   11.6\n",
      "13    B     76   32.0\n",
      "14    B    296   18.0\n",
      "11    B    402   11.8\n",
      "9     B    376   16.3\n",
      "17    B    209   25.8\n",
      "17    B    209   25.8\n",
      "13    B     76   32.0\n",
      "11    B    402   11.8\n",
      "17    B    209   25.8\n",
      "19    C    188   22.0\n",
      "19    C    188   22.0\n",
      "25    C    107   31.7\n",
      "24    C    150   25.4\n",
      "24    C    150   25.4\n",
      "22    C     58   32.8\n",
      "22    C     58   32.8\n",
      "22    C     58   32.8\n",
      "25    C    107   31.7\n",
      "23    C     49   32.5\n",
      "20    C    115   29.7\n",
      "19    C    188   22.0\n",
      "   lote  horas  monto\n",
      "1     A    152   20.5\n",
      "1     A    152   20.5\n",
      "1     A    152   20.5\n",
      "6     A    184   20.9\n",
      "0     A     99   25.8\n",
      "..  ...    ...    ...\n",
      "26    C    125   28.5\n",
      "22    C     58   32.8\n",
      "18    C    119   28.8\n",
      "24    C    150   25.4\n",
      "24    C    150   25.4\n",
      "\n",
      "[108 rows x 3 columns]\n",
      "   lote  horas  monto\n",
      "0     A     99   25.8\n",
      "5     A     53   31.1\n",
      "7     A    171   20.9\n",
      "7     A    171   20.9\n",
      "8     A     52   30.4\n",
      "..  ...    ...    ...\n",
      "21    C     88   28.9\n",
      "23    C     49   32.5\n",
      "23    C     49   32.5\n",
      "20    C    115   29.7\n",
      "26    C    125   28.5\n",
      "\n",
      "[324 rows x 3 columns]\n",
      "   lote  horas  monto\n",
      "3     A    155   23.2\n",
      "8     A     52   30.4\n",
      "6     A    184   20.9\n",
      "6     A    184   20.9\n",
      "7     A    171   20.9\n",
      "..  ...    ...    ...\n",
      "18    C    119   28.8\n",
      "19    C    188   22.0\n",
      "19    C    188   22.0\n",
      "23    C     49   32.5\n",
      "20    C    115   29.7\n",
      "\n",
      "[972 rows x 3 columns]\n",
      "   lote  horas  monto\n",
      "7     A    171   20.9\n",
      "3     A    155   23.2\n",
      "0     A     99   25.8\n",
      "2     A    293   14.3\n",
      "8     A     52   30.4\n",
      "..  ...    ...    ...\n",
      "18    C    119   28.8\n",
      "23    C     49   32.5\n",
      "23    C     49   32.5\n",
      "21    C     88   28.9\n",
      "18    C    119   28.8\n",
      "\n",
      "[2916 rows x 3 columns]\n",
      "   lote  horas  monto\n",
      "8     A     52   30.4\n",
      "5     A     53   31.1\n",
      "2     A    293   14.3\n",
      "6     A    184   20.9\n",
      "5     A     53   31.1\n",
      "..  ...    ...    ...\n",
      "22    C     58   32.8\n",
      "21    C     88   28.9\n",
      "18    C    119   28.8\n",
      "22    C     58   32.8\n",
      "20    C    115   29.7\n",
      "\n",
      "[8748 rows x 3 columns]\n",
      "   lote  horas  monto\n",
      "3     A    155   23.2\n",
      "3     A    155   23.2\n",
      "1     A    152   20.5\n",
      "4     A    196   20.6\n",
      "7     A    171   20.9\n",
      "..  ...    ...    ...\n",
      "22    C     58   32.8\n",
      "20    C    115   29.7\n",
      "18    C    119   28.8\n",
      "19    C    188   22.0\n",
      "21    C     88   28.9\n",
      "\n",
      "[26244 rows x 3 columns]\n",
      "   lote  horas  monto\n",
      "4     A    196   20.6\n",
      "6     A    184   20.9\n",
      "0     A     99   25.8\n",
      "4     A    196   20.6\n",
      "5     A     53   31.1\n",
      "..  ...    ...    ...\n",
      "24    C    150   25.4\n",
      "19    C    188   22.0\n",
      "20    C    115   29.7\n",
      "19    C    188   22.0\n",
      "22    C     58   32.8\n",
      "\n",
      "[78732 rows x 3 columns]\n",
      "   lote  horas  monto\n",
      "7     A    171   20.9\n",
      "7     A    171   20.9\n",
      "7     A    171   20.9\n",
      "4     A    196   20.6\n",
      "2     A    293   14.3\n",
      "..  ...    ...    ...\n",
      "21    C     88   28.9\n",
      "18    C    119   28.8\n",
      "26    C    125   28.5\n",
      "18    C    119   28.8\n",
      "24    C    150   25.4\n",
      "\n",
      "[236196 rows x 3 columns]\n",
      "[5.38476074e-03 3.95861827e-03 2.38143378e-03 1.20130849e-03\n",
      " 7.03179645e-04 4.15138879e-04 2.38346304e-04 1.38548669e-04\n",
      " 7.94768104e-05 4.60760664e-05]\n"
     ]
    }
   ],
   "source": [
    "#Seleccionamos aleatoriamente n muestras de cada lote\n",
    "n=4\n",
    "sims_3=10\n",
    "errores_3=np.zeros(sims_3)\n",
    "for  i in range(0,sims_3):\n",
    "    horm_random=bd_horm.groupby(['lote']).sample(n=n,replace=True)\n",
    "    X = horm_random[[\"horas\"]]\n",
    "    y = horm_random[[\"monto\"]]\n",
    "    reg.fit(X, y)\n",
    "    Y_pred = reg.predict(X)\n",
    "    y_estim=Y_pred.reshape(-1)\n",
    "    x=X.to_numpy().reshape(-1)\n",
    "    y_real=y.to_numpy()\n",
    "    y_real=y_real.reshape(-1)\n",
    "    n=len(y_real)\n",
    "    residual=y_real-y_estim\n",
    "    den=sum((x-np.mean(x))**2)\n",
    "    num=sum(residual**2)/(n)\n",
    "    err_reg=np.sqrt(num/den)\n",
    "    errores_3[i]=err_reg\n",
    "print(errores_3)"
   ]
  },
  {
   "cell_type": "code",
   "execution_count": 15,
   "metadata": {},
   "outputs": [
    {
     "data": {
      "image/png": "[encoded data removed]",
      "text/plain": [
       "<Figure size 648x432 with 1 Axes>"
      ]
     },
     "metadata": {
      "needs_background": "light"
     },
     "output_type": "display_data"
    },
    {
     "name": "stdout",
     "output_type": "stream",
     "text": [
      "Error Estándar sin Bootsrap: 0.004295652626358282\n",
      "Promedio de Error Estándar de la muestras Bootstrap: 0.000960815781656399\n",
      "Promedio de Error Estándar de la muestras Bootstrap: 0.000960815781656399\n",
      "( 3.570943931708634e-05 , 0.003650902984699501 )\n"
     ]
    }
   ],
   "source": [
    "fig, ax = plt.subplots(figsize=(9,6))\n",
    "hist(errores_3,bins=50,alpha=0.5,edgecolor=\"white\",label=\"Error estándar Boostrap\")\n",
    "axvline(x=err_reg_completa,color='green', linestyle='--',linewidth=3,label=\"Error Estándar de b_1 con regresión$\")\n",
    "axvline(x=np.mean(errores_3),color='black', linestyle='--',linewidth=3,label=\"Promedio error estándar de b_1 con  Boostrap$\")\n",
    "\n",
    "axvline(percentile(errores_3,2.5),color=\"blue\",linestyle=\"--\",linewidth=2)                                                                                                                                                    \n",
    "axvline(percentile(errores_3,97.5),color=\"blue\",linestyle=\"--\",linewidth=2) \n",
    "show()\n",
    "print(\"Error Estándar sin Bootsrap:\", err_reg_completa)\n",
    "print(\"Promedio de Error Estándar de la muestras Bootstrap:\", np.mean(errores_3))\n",
    "print(\"Promedio de Error Estándar de la muestras Bootstrap:\", np.mean(errores_3))\n",
    "print(\"(\", percentile(errores_3,2.5),\",\",percentile(errores_3,97.5),\")\")"
   ]
  },
  {
   "cell_type": "code",
   "execution_count": null,
   "metadata": {},
   "outputs": [],
   "source": []
  }
 ],
 "metadata": {
  "kernelspec": {
   "display_name": "Python 3",
   "language": "python",
   "name": "python3"
  },
  "language_info": {
   "codemirror_mode": {
    "name": "ipython",
    "version": 3
   },
   "file_extension": ".py",
   "mimetype": "text/x-python",
   "name": "python",
   "nbconvert_exporter": "python",
   "pygments_lexer": "ipython3",
   "version": "3.8.5"
  }
 },
 "nbformat": 4,
 "nbformat_minor": 4
}
